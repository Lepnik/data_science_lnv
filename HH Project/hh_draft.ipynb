{
 "cells": [
  {
   "cell_type": "code",
   "execution_count": 9,
   "metadata": {},
   "outputs": [],
   "source": [
    "import pandas as pd\n",
    "import numpy as np\n",
    "import plotly\n",
    "import plotly.express as px\n",
    "import plotly.graph_objects as go\n",
    "\n",
    "hh_db = pd.read_csv('data/hh_database.csv', sep=';')\n",
    "rough_data = hh_db.copy()\n",
    "#display(rough_data)\n",
    "#display(rough_data.iloc[:,9].value_counts())\n",
    "\n",
    "def pull_data(arg):\n",
    "    edu_type_lst = list(arg.split())\n",
    "\n",
    "    if edu_type_lst[0] == 'Высшее':\n",
    "        return 'Высшее'\n",
    "    elif edu_type_lst[0] == 'Неоконченное':\n",
    "        return 'Неоконченное высшее'\n",
    "    elif ((edu_type_lst[0] + ' ' + edu_type_lst[1]) == 'Среднее специальное') :\n",
    "        return 'Среднее специальное'\n",
    "    else:\n",
    "        return 'Cреднее'\n",
    "rough_data['Образование'] = rough_data['Образование и ВУЗ'].apply(pull_data)\n",
    "#display(rough_data['Образование'].value_counts())\n",
    "rough_data = rough_data.drop(['Образование и ВУЗ'], axis=1)\n",
    "    \n",
    "rough_data['Возраст'] = rough_data['Пол, возраст'].apply(lambda age: int((list(age.split(','))[1][2:4])))\n",
    "rough_data['Пол'] = rough_data['Пол, возраст'].apply(lambda sex:'М' if 'Мужчина ' in sex.split(',') else 'Ж')\n",
    "rough_data['Пол'] = rough_data['Пол'].astype('string')\n",
    "rough_data = rough_data.drop(['Пол, возраст'], axis=1)\n",
    "#rough_data['Пол'].value_counts(normalize=True)\n",
    "#rough_data['Возраст'].mean()\n",
    "        \n",
    "def get_experience(arg):\n",
    "    if type(arg) is str: \n",
    "        if arg =='Не указано': return np.nan\n",
    "        else: \n",
    "           cell = arg.split()\n",
    "           try:\n",
    "               if int(cell[2]) and int(cell[4]): return int(cell[2])*12+int(cell[4])\n",
    "           except ValueError:\n",
    "               if (cell[3] == 'месяца') or (cell[3] =='месяцев'):\n",
    "                   return int(cell[2])\n",
    "               else: return int(cell[2])*12\n",
    "    else: return np.nan\n",
    "\n",
    "rough_data['Опыт работы (месяц)'] = rough_data['Опыт работы'].apply(get_experience)\n",
    "rough_data = rough_data.drop(['Опыт работы'], axis=1)\n",
    "#display(rough_data['Опыт работы (месяц)'].median())\n",
    "\n",
    "def city(arg):\n",
    "    million_cities = ['Новосибирск', 'Екатеринбург', 'Нижний Новгород', 'Казань', 'Челябинск', 'Омск', \n",
    "                      'Самара', 'Ростов-на-Дону', 'Уфа', 'Красноярск', 'Пермь', 'Воронеж', 'Волгоград']\n",
    "    arg_str = arg.replace(',', '')\n",
    "    arg_str = arg_str.split()[0]\n",
    "    if arg_str in ['Москва', 'Санкт-Петербург']:\n",
    "        return arg_str\n",
    "    elif arg_str in million_cities:\n",
    "        return 'город-миллионник'\n",
    "    else: return 'другие'\n",
    "rough_data['Город'] = rough_data['Город, переезд, командировки'].apply(city)\n",
    "#display(rough_data['Город'].value_counts(normalize=True)*100)\n",
    "\n",
    "def relocation(arg):\n",
    "    arg=arg[arg.find(',')+2:]\n",
    "    if arg[0:3]==' м.':\n",
    "        arg=arg[arg.find(',')+2:]\n",
    "    arg=arg[:arg.find(',')]\n",
    "    arg_lst=list(arg.split())\n",
    "    if 'не' in arg_lst: return False\n",
    "    else: return True\n",
    "\n",
    "rough_data['Готовность к переезду'] = rough_data['Город, переезд, командировки'].apply(relocation)  \n",
    "\n",
    "#display(rough_data['Город, переезд, командировки'].value_counts())\n",
    "\n",
    "def business_trip(arg):\n",
    "    arg=arg[arg.rfind(','):]\n",
    "    arg_lst=list(arg.split())\n",
    "    if ('командировкам' not in arg_lst) or ('не' in arg_lst): return False\n",
    "    else: return True\n",
    "    \n",
    "rough_data['Готовность к командировкам'] = rough_data['Город, переезд, командировки'].apply(business_trip)\n",
    "rough_data = rough_data.drop(['Город, переезд, командировки'], axis=1)\n",
    "rough_data\n",
    "#display((rough_data.groupby('Готовность к переезду')['Готовность к командировкам'].value_counts()\n",
    "#        /rough_data['Готовность к переезду'].count())*100)\n",
    "\n",
    "def work_type(arg):\n",
    "    variaties = {'полная занятость':False, \n",
    "                 'частичная занятость':False, \n",
    "                 'проектная работа':False, \n",
    "                 'волонтерство':False, \n",
    "                 'стажировка':False}\n",
    "    arg_lst=list(arg.split(','))\n",
    "    for i in range(len(arg_lst)):\n",
    "        if arg_lst[i][0] == ' ':\n",
    "            arg_lst[i] = arg_lst[i][1:]\n",
    "        if  arg_lst[i] in variaties: \n",
    "            variaties[arg_lst[i]] = True\n",
    "    return variaties.values()\n",
    "\n",
    "rough_data['полная занятость'], rough_data['частичная занятость'], rough_data['проектная работа'], \\\n",
    "    rough_data['волонтерство'], rough_data['стажировка'] = zip(*rough_data['Занятость'].map(work_type))\n",
    "    \n",
    "    \n",
    "def schedule(arg):\n",
    "    variaties = {'полный день':False, \n",
    "                 'сменный график':False, \n",
    "                 'гибкий график':False, \n",
    "                 'удаленная работа':False, \n",
    "                 'вахтовый метод':False}\n",
    "    arg_lst=list(arg.split(','))\n",
    "    for i in range(len(arg_lst)):\n",
    "        if arg_lst[i][0] == ' ':\n",
    "            arg_lst[i] = arg_lst[i][1:]\n",
    "        if  arg_lst[i] in variaties: \n",
    "            variaties[arg_lst[i]] = True\n",
    "    return variaties.values()\n",
    "\n",
    "rough_data['полный день'], rough_data['сменный график'], rough_data['гибкий график'], \\\n",
    "    rough_data['удаленная работа'], rough_data['вахтовый метод'] = zip(*rough_data['График'].map(schedule))\n",
    "    \n",
    "rough_data = rough_data.drop(['График', 'Занятость'], axis=1)\n",
    "#display(rough_data.groupby('проектная работа')['волонтерство'].value_counts())\n",
    "\n",
    "ExchangeRates = pd.read_csv('data/ExchangeRates.csv', sep=',')\n",
    "ExchangeRates['date'] = pd.to_datetime(ExchangeRates['date'], dayfirst = True)\n",
    "ExchangeRates = ExchangeRates.drop(['per', 'vol','time'], axis=1)\n",
    "rough_data['Обновление резюме'] = pd.to_datetime(rough_data['Обновление резюме'], dayfirst = True).dt.date\n",
    "rough_data['Обновление резюме'] = pd.to_datetime(rough_data['Обновление резюме'])\n",
    "\n",
    "\n",
    "def salary(arg):\n",
    "    curancy = {'руб':'RUR','грн':'UAH', 'бел':'BYN', 'сум':'UZS'}\n",
    "    arg_lst = arg.split()\n",
    "    if arg_lst[1][:3] in curancy:\n",
    "        arg_lst[1]=curancy[arg_lst[1][:3]]\n",
    "    return arg_lst[0], arg_lst[1]\n",
    "    \n",
    "rough_data['ЗП'],rough_data['валюта'] = zip(*rough_data['ЗП'].map(salary))\n",
    "\n",
    "merged_data = rough_data.merge(ExchangeRates, how = 'left', \\\n",
    "    left_on = ['Обновление резюме', 'валюта'], right_on = ['date', 'currency'])\n",
    "merged_data['close'] = merged_data['close'].fillna(1)\n",
    "merged_data['proportion'] = merged_data['proportion'].fillna(1)\n",
    "merged_data['ЗП'] = merged_data['ЗП'].astype('float')\n",
    "merged_data['ЗП'] = merged_data['close']/merged_data['proportion']*merged_data['ЗП']\n",
    "\n",
    "merged_data = merged_data.drop(['currency', 'date', 'close', 'proportion', 'валюта'], axis=1)"
   ]
  },
  {
   "cell_type": "code",
   "execution_count": null,
   "metadata": {},
   "outputs": [],
   "source": [
    "# как остатвить только необходимое значение??\n",
    "print('Значение моды для признака \"Возраст\":',merged_data['Возраст'].mode())\n",
    "#строим график для задания 4.1\n",
    "fig = px.violin(merged_data, \n",
    "                x=\"Возраст\", #ось абсцис\n",
    "                box=True, # дополнительное отражение коробчатой диаграммы\n",
    "                points='all', #дополнительное отображение значений признака в виде диаграммы рассеивания \n",
    "                title = 'Распределение признака «Возраст»', #заголовок\n",
    "                width = 900 # ширина графика\n",
    "               )\n",
    "fig.show() #отображаем график\n",
    "fig.write_html(\"data/Распределение признака «Возраст».html\") #сохраняем график"
   ]
  },
  {
   "attachments": {},
   "cell_type": "markdown",
   "metadata": {},
   "source": [
    "Мода призанка \"Возраст\" равна 30 годам.\n",
    "Минимальный возраст соискателя 10 лет. Максимальный 77 лет.\n",
    "Возраст большинства сосискателей сосредоточен в диапазоне 27-36 лет.\n",
    "К аномалиям можно отнести соискателей с возрастом менее 18 лет и более 65 лет."
   ]
  },
  {
   "cell_type": "code",
   "execution_count": null,
   "metadata": {},
   "outputs": [],
   "source": [
    "print('Значение моды для признака \"Опыт работы\", мес.:', merged_data['ЗП'].mode())\n",
    "\n",
    "#строим график для задания 4.2\n",
    "fig = px.violin(merged_data, \n",
    "                x=\"Опыт работы (месяц)\", #ось абсцис\n",
    "                box=True, # дополнительное отражение коробчатой диаграммы\n",
    "                points='all', #дополнительное отображение значений признака в виде диаграммы рассеивания \n",
    "                title = 'Распределение признака «Опыт работы (месяц)»', #заголовок\n",
    "                width = 900# ширина графика\n",
    "               )\n",
    "fig.show() #отображаем график\n",
    "fig.write_html(\"data/Распределение признака Опыт работы.html\") #сохраняем график"
   ]
  },
  {
   "attachments": {},
   "cell_type": "markdown",
   "metadata": {},
   "source": [
    "Мода призанка \"Опыт работы (месяц)\" равна 81 месяцу.\n",
    "Минимальное знаение в признаке 2 месяца. Максимальное 1188 месяцев.\n",
    "Опыт работы большинства сосискателей сосредоточен в диапазоне 57-154 месяцев.\n",
    "К аномалиям можно отнести соискателей с опытом работы более 600 месяцев (50 лет)."
   ]
  },
  {
   "cell_type": "code",
   "execution_count": null,
   "metadata": {},
   "outputs": [],
   "source": [
    "print('Значение моды для признака \"ЗП\", руб.:', merged_data['ЗП'].mode())\n",
    "\n",
    "#строим график для задания 4.3\n",
    "fig = px.violin(merged_data, \n",
    "                x=\"ЗП\", #ось абсцис\n",
    "                #box=True, # дополнительное отражение коробчатой диаграммы\n",
    "                points='all', #дополнительное отображение значений признака в виде диаграммы рассеивания \n",
    "                title = 'Распределение признака \"ЗП\", руб.', #заголовок\n",
    "                width = 2000, # ширина графика\n",
    "               )\n",
    "fig.show() #отображаем график\n",
    "fig.write_html(\"data/Распределение признака ЗП.html\") #сохраняем график"
   ]
  },
  {
   "attachments": {},
   "cell_type": "markdown",
   "metadata": {},
   "source": [
    "Мода призанка \"ЗП\" равна 50000 рублей.\n",
    "Минимальное знаение в признаке 1 рубль. Максимальное 24304880 рублей.\n",
    "Большинство сосискателей ожидают мотивацию в диапазоне 37000 - 95000 рублей.\n",
    "К аномалиям можно отнести соискателей с зарплатным ожиданием менее 15000 рублей более 500000 рублей."
   ]
  },
  {
   "cell_type": "code",
   "execution_count": null,
   "metadata": {},
   "outputs": [],
   "source": [
    "temp = merged_data[merged_data['ЗП']<1000000] #формируем df\n",
    "temp = temp.groupby('Образование', as_index=False).median() #формируем значение\n",
    "#строим график для задания 4.4\n",
    "fig = px.bar(\n",
    "    temp.sort_values(by = 'ЗП', ascending=False), #DataFrame\n",
    "    x = 'Образование', #ось абсцисс\n",
    "    y = 'ЗП', #ось ординат\n",
    "    width = 800, #ширина\n",
    "    height = 500, #высота\n",
    "    title = \"Зависимость медианной желаемой заработной платы от уровня образования\" #заголовок\n",
    "    );\n",
    "fig.show() #отображаем график\n",
    "fig.write_html(\"data/Зависимость медианной желаемой заработной платы от уровня образования.html\") #сохраняем график"
   ]
  },
  {
   "attachments": {},
   "cell_type": "markdown",
   "metadata": {},
   "source": [
    "Вывод: наибольший уровень заработной платы ожидают соискатели с высшим и неоконченным высшим образованием. 60000 рублей и 50000 рублей соответственно. Меньшие мотивационные ожидания у соискателей со средним и средне специальным образованием - 40000 рублей.\n",
    "Для прогнозирования заработной платы соискатлей работы в сфере ИТ уровень образования имеет значение. Но не для всех других направлений это работает."
   ]
  },
  {
   "cell_type": "code",
   "execution_count": null,
   "metadata": {},
   "outputs": [],
   "source": [
    "temp = merged_data[merged_data['ЗП']<1000000] #формируем df\n",
    "display(temp.groupby('Город', as_index=False)['ЗП'].max())\n",
    "temp = temp.groupby('Город', as_index=False).median() #формируем df\n",
    "#строим график для задания 4.5\n",
    "fig = px.bar(\n",
    "    temp.sort_values(by = 'ЗП', ascending=False), #DataFrame\n",
    "    x = 'Город', #ось абсцисс\n",
    "    y = 'ЗП', #ось ординат\n",
    "    width = 800, #ширина\n",
    "    height = 500, #высота\n",
    "    title = \"Зависимость медианной желаемой заработной платы от локации\" #заголовок\n",
    "    );\n",
    "fig.show() #отображаем график\n",
    "fig.write_html(\"data/Зависимость медианной желаемой заработной платы от локации.html\") #сохраняем график"
   ]
  },
  {
   "attachments": {},
   "cell_type": "markdown",
   "metadata": {},
   "source": [
    "Медианный уровень ожидаемой заработной платы в городах-миллионниках и \"других\" вдвое (точнее в 2.125) меньше того же уровня, чем в Москве. И в полтора раза меньше, чем в Санкт-Петербурге.\n",
    "Для прогнозирования заработной платы соискатлей локация работодателя имеет значение."
   ]
  },
  {
   "cell_type": "code",
   "execution_count": 34,
   "metadata": {},
   "outputs": [
    {
     "data": {
      "application/vnd.plotly.v1+json": {
       "config": {
        "plotlyServerURL": "https://plot.ly"
       },
       "data": [
        {
         "alignmentgroup": "True",
         "hovertemplate": "Готовность к командировкам=False<br>Готовность к переезду=%{x}<br>value=%{y}<extra></extra>",
         "legendgroup": "False",
         "marker": {
          "color": "#636efa",
          "pattern": {
           "shape": ""
          }
         },
         "name": "False",
         "offsetgroup": "False",
         "orientation": "v",
         "showlegend": true,
         "textposition": "auto",
         "texttemplate": "%{y}",
         "type": "bar",
         "x": [
          false,
          true
         ],
         "xaxis": "x",
         "y": [
          40000,
          50000
         ],
         "yaxis": "y"
        },
        {
         "alignmentgroup": "True",
         "hovertemplate": "Готовность к командировкам=True<br>Готовность к переезду=%{x}<br>value=%{y}<extra></extra>",
         "legendgroup": "True",
         "marker": {
          "color": "#EF553B",
          "pattern": {
           "shape": ""
          }
         },
         "name": "True",
         "offsetgroup": "True",
         "orientation": "v",
         "showlegend": true,
         "textposition": "auto",
         "texttemplate": "%{y}",
         "type": "bar",
         "x": [
          false,
          true
         ],
         "xaxis": "x",
         "y": [
          60000,
          65849.455
         ],
         "yaxis": "y"
        }
       ],
       "layout": {
        "barmode": "relative",
        "legend": {
         "title": {
          "text": "Готовность к командировкам"
         },
         "tracegroupgap": 0
        },
        "template": {
         "data": {
          "bar": [
           {
            "error_x": {
             "color": "#2a3f5f"
            },
            "error_y": {
             "color": "#2a3f5f"
            },
            "marker": {
             "line": {
              "color": "#E5ECF6",
              "width": 0.5
             },
             "pattern": {
              "fillmode": "overlay",
              "size": 10,
              "solidity": 0.2
             }
            },
            "type": "bar"
           }
          ],
          "barpolar": [
           {
            "marker": {
             "line": {
              "color": "#E5ECF6",
              "width": 0.5
             },
             "pattern": {
              "fillmode": "overlay",
              "size": 10,
              "solidity": 0.2
             }
            },
            "type": "barpolar"
           }
          ],
          "carpet": [
           {
            "aaxis": {
             "endlinecolor": "#2a3f5f",
             "gridcolor": "white",
             "linecolor": "white",
             "minorgridcolor": "white",
             "startlinecolor": "#2a3f5f"
            },
            "baxis": {
             "endlinecolor": "#2a3f5f",
             "gridcolor": "white",
             "linecolor": "white",
             "minorgridcolor": "white",
             "startlinecolor": "#2a3f5f"
            },
            "type": "carpet"
           }
          ],
          "choropleth": [
           {
            "colorbar": {
             "outlinewidth": 0,
             "ticks": ""
            },
            "type": "choropleth"
           }
          ],
          "contour": [
           {
            "colorbar": {
             "outlinewidth": 0,
             "ticks": ""
            },
            "colorscale": [
             [
              0,
              "#0d0887"
             ],
             [
              0.1111111111111111,
              "#46039f"
             ],
             [
              0.2222222222222222,
              "#7201a8"
             ],
             [
              0.3333333333333333,
              "#9c179e"
             ],
             [
              0.4444444444444444,
              "#bd3786"
             ],
             [
              0.5555555555555556,
              "#d8576b"
             ],
             [
              0.6666666666666666,
              "#ed7953"
             ],
             [
              0.7777777777777778,
              "#fb9f3a"
             ],
             [
              0.8888888888888888,
              "#fdca26"
             ],
             [
              1,
              "#f0f921"
             ]
            ],
            "type": "contour"
           }
          ],
          "contourcarpet": [
           {
            "colorbar": {
             "outlinewidth": 0,
             "ticks": ""
            },
            "type": "contourcarpet"
           }
          ],
          "heatmap": [
           {
            "colorbar": {
             "outlinewidth": 0,
             "ticks": ""
            },
            "colorscale": [
             [
              0,
              "#0d0887"
             ],
             [
              0.1111111111111111,
              "#46039f"
             ],
             [
              0.2222222222222222,
              "#7201a8"
             ],
             [
              0.3333333333333333,
              "#9c179e"
             ],
             [
              0.4444444444444444,
              "#bd3786"
             ],
             [
              0.5555555555555556,
              "#d8576b"
             ],
             [
              0.6666666666666666,
              "#ed7953"
             ],
             [
              0.7777777777777778,
              "#fb9f3a"
             ],
             [
              0.8888888888888888,
              "#fdca26"
             ],
             [
              1,
              "#f0f921"
             ]
            ],
            "type": "heatmap"
           }
          ],
          "heatmapgl": [
           {
            "colorbar": {
             "outlinewidth": 0,
             "ticks": ""
            },
            "colorscale": [
             [
              0,
              "#0d0887"
             ],
             [
              0.1111111111111111,
              "#46039f"
             ],
             [
              0.2222222222222222,
              "#7201a8"
             ],
             [
              0.3333333333333333,
              "#9c179e"
             ],
             [
              0.4444444444444444,
              "#bd3786"
             ],
             [
              0.5555555555555556,
              "#d8576b"
             ],
             [
              0.6666666666666666,
              "#ed7953"
             ],
             [
              0.7777777777777778,
              "#fb9f3a"
             ],
             [
              0.8888888888888888,
              "#fdca26"
             ],
             [
              1,
              "#f0f921"
             ]
            ],
            "type": "heatmapgl"
           }
          ],
          "histogram": [
           {
            "marker": {
             "pattern": {
              "fillmode": "overlay",
              "size": 10,
              "solidity": 0.2
             }
            },
            "type": "histogram"
           }
          ],
          "histogram2d": [
           {
            "colorbar": {
             "outlinewidth": 0,
             "ticks": ""
            },
            "colorscale": [
             [
              0,
              "#0d0887"
             ],
             [
              0.1111111111111111,
              "#46039f"
             ],
             [
              0.2222222222222222,
              "#7201a8"
             ],
             [
              0.3333333333333333,
              "#9c179e"
             ],
             [
              0.4444444444444444,
              "#bd3786"
             ],
             [
              0.5555555555555556,
              "#d8576b"
             ],
             [
              0.6666666666666666,
              "#ed7953"
             ],
             [
              0.7777777777777778,
              "#fb9f3a"
             ],
             [
              0.8888888888888888,
              "#fdca26"
             ],
             [
              1,
              "#f0f921"
             ]
            ],
            "type": "histogram2d"
           }
          ],
          "histogram2dcontour": [
           {
            "colorbar": {
             "outlinewidth": 0,
             "ticks": ""
            },
            "colorscale": [
             [
              0,
              "#0d0887"
             ],
             [
              0.1111111111111111,
              "#46039f"
             ],
             [
              0.2222222222222222,
              "#7201a8"
             ],
             [
              0.3333333333333333,
              "#9c179e"
             ],
             [
              0.4444444444444444,
              "#bd3786"
             ],
             [
              0.5555555555555556,
              "#d8576b"
             ],
             [
              0.6666666666666666,
              "#ed7953"
             ],
             [
              0.7777777777777778,
              "#fb9f3a"
             ],
             [
              0.8888888888888888,
              "#fdca26"
             ],
             [
              1,
              "#f0f921"
             ]
            ],
            "type": "histogram2dcontour"
           }
          ],
          "mesh3d": [
           {
            "colorbar": {
             "outlinewidth": 0,
             "ticks": ""
            },
            "type": "mesh3d"
           }
          ],
          "parcoords": [
           {
            "line": {
             "colorbar": {
              "outlinewidth": 0,
              "ticks": ""
             }
            },
            "type": "parcoords"
           }
          ],
          "pie": [
           {
            "automargin": true,
            "type": "pie"
           }
          ],
          "scatter": [
           {
            "fillpattern": {
             "fillmode": "overlay",
             "size": 10,
             "solidity": 0.2
            },
            "type": "scatter"
           }
          ],
          "scatter3d": [
           {
            "line": {
             "colorbar": {
              "outlinewidth": 0,
              "ticks": ""
             }
            },
            "marker": {
             "colorbar": {
              "outlinewidth": 0,
              "ticks": ""
             }
            },
            "type": "scatter3d"
           }
          ],
          "scattercarpet": [
           {
            "marker": {
             "colorbar": {
              "outlinewidth": 0,
              "ticks": ""
             }
            },
            "type": "scattercarpet"
           }
          ],
          "scattergeo": [
           {
            "marker": {
             "colorbar": {
              "outlinewidth": 0,
              "ticks": ""
             }
            },
            "type": "scattergeo"
           }
          ],
          "scattergl": [
           {
            "marker": {
             "colorbar": {
              "outlinewidth": 0,
              "ticks": ""
             }
            },
            "type": "scattergl"
           }
          ],
          "scattermapbox": [
           {
            "marker": {
             "colorbar": {
              "outlinewidth": 0,
              "ticks": ""
             }
            },
            "type": "scattermapbox"
           }
          ],
          "scatterpolar": [
           {
            "marker": {
             "colorbar": {
              "outlinewidth": 0,
              "ticks": ""
             }
            },
            "type": "scatterpolar"
           }
          ],
          "scatterpolargl": [
           {
            "marker": {
             "colorbar": {
              "outlinewidth": 0,
              "ticks": ""
             }
            },
            "type": "scatterpolargl"
           }
          ],
          "scatterternary": [
           {
            "marker": {
             "colorbar": {
              "outlinewidth": 0,
              "ticks": ""
             }
            },
            "type": "scatterternary"
           }
          ],
          "surface": [
           {
            "colorbar": {
             "outlinewidth": 0,
             "ticks": ""
            },
            "colorscale": [
             [
              0,
              "#0d0887"
             ],
             [
              0.1111111111111111,
              "#46039f"
             ],
             [
              0.2222222222222222,
              "#7201a8"
             ],
             [
              0.3333333333333333,
              "#9c179e"
             ],
             [
              0.4444444444444444,
              "#bd3786"
             ],
             [
              0.5555555555555556,
              "#d8576b"
             ],
             [
              0.6666666666666666,
              "#ed7953"
             ],
             [
              0.7777777777777778,
              "#fb9f3a"
             ],
             [
              0.8888888888888888,
              "#fdca26"
             ],
             [
              1,
              "#f0f921"
             ]
            ],
            "type": "surface"
           }
          ],
          "table": [
           {
            "cells": {
             "fill": {
              "color": "#EBF0F8"
             },
             "line": {
              "color": "white"
             }
            },
            "header": {
             "fill": {
              "color": "#C8D4E3"
             },
             "line": {
              "color": "white"
             }
            },
            "type": "table"
           }
          ]
         },
         "layout": {
          "annotationdefaults": {
           "arrowcolor": "#2a3f5f",
           "arrowhead": 0,
           "arrowwidth": 1
          },
          "autotypenumbers": "strict",
          "coloraxis": {
           "colorbar": {
            "outlinewidth": 0,
            "ticks": ""
           }
          },
          "colorscale": {
           "diverging": [
            [
             0,
             "#8e0152"
            ],
            [
             0.1,
             "#c51b7d"
            ],
            [
             0.2,
             "#de77ae"
            ],
            [
             0.3,
             "#f1b6da"
            ],
            [
             0.4,
             "#fde0ef"
            ],
            [
             0.5,
             "#f7f7f7"
            ],
            [
             0.6,
             "#e6f5d0"
            ],
            [
             0.7,
             "#b8e186"
            ],
            [
             0.8,
             "#7fbc41"
            ],
            [
             0.9,
             "#4d9221"
            ],
            [
             1,
             "#276419"
            ]
           ],
           "sequential": [
            [
             0,
             "#0d0887"
            ],
            [
             0.1111111111111111,
             "#46039f"
            ],
            [
             0.2222222222222222,
             "#7201a8"
            ],
            [
             0.3333333333333333,
             "#9c179e"
            ],
            [
             0.4444444444444444,
             "#bd3786"
            ],
            [
             0.5555555555555556,
             "#d8576b"
            ],
            [
             0.6666666666666666,
             "#ed7953"
            ],
            [
             0.7777777777777778,
             "#fb9f3a"
            ],
            [
             0.8888888888888888,
             "#fdca26"
            ],
            [
             1,
             "#f0f921"
            ]
           ],
           "sequentialminus": [
            [
             0,
             "#0d0887"
            ],
            [
             0.1111111111111111,
             "#46039f"
            ],
            [
             0.2222222222222222,
             "#7201a8"
            ],
            [
             0.3333333333333333,
             "#9c179e"
            ],
            [
             0.4444444444444444,
             "#bd3786"
            ],
            [
             0.5555555555555556,
             "#d8576b"
            ],
            [
             0.6666666666666666,
             "#ed7953"
            ],
            [
             0.7777777777777778,
             "#fb9f3a"
            ],
            [
             0.8888888888888888,
             "#fdca26"
            ],
            [
             1,
             "#f0f921"
            ]
           ]
          },
          "colorway": [
           "#636efa",
           "#EF553B",
           "#00cc96",
           "#ab63fa",
           "#FFA15A",
           "#19d3f3",
           "#FF6692",
           "#B6E880",
           "#FF97FF",
           "#FECB52"
          ],
          "font": {
           "color": "#2a3f5f"
          },
          "geo": {
           "bgcolor": "white",
           "lakecolor": "white",
           "landcolor": "#E5ECF6",
           "showlakes": true,
           "showland": true,
           "subunitcolor": "white"
          },
          "hoverlabel": {
           "align": "left"
          },
          "hovermode": "closest",
          "mapbox": {
           "style": "light"
          },
          "paper_bgcolor": "white",
          "plot_bgcolor": "#E5ECF6",
          "polar": {
           "angularaxis": {
            "gridcolor": "white",
            "linecolor": "white",
            "ticks": ""
           },
           "bgcolor": "#E5ECF6",
           "radialaxis": {
            "gridcolor": "white",
            "linecolor": "white",
            "ticks": ""
           }
          },
          "scene": {
           "xaxis": {
            "backgroundcolor": "#E5ECF6",
            "gridcolor": "white",
            "gridwidth": 2,
            "linecolor": "white",
            "showbackground": true,
            "ticks": "",
            "zerolinecolor": "white"
           },
           "yaxis": {
            "backgroundcolor": "#E5ECF6",
            "gridcolor": "white",
            "gridwidth": 2,
            "linecolor": "white",
            "showbackground": true,
            "ticks": "",
            "zerolinecolor": "white"
           },
           "zaxis": {
            "backgroundcolor": "#E5ECF6",
            "gridcolor": "white",
            "gridwidth": 2,
            "linecolor": "white",
            "showbackground": true,
            "ticks": "",
            "zerolinecolor": "white"
           }
          },
          "shapedefaults": {
           "line": {
            "color": "#2a3f5f"
           }
          },
          "ternary": {
           "aaxis": {
            "gridcolor": "white",
            "linecolor": "white",
            "ticks": ""
           },
           "baxis": {
            "gridcolor": "white",
            "linecolor": "white",
            "ticks": ""
           },
           "bgcolor": "#E5ECF6",
           "caxis": {
            "gridcolor": "white",
            "linecolor": "white",
            "ticks": ""
           }
          },
          "title": {
           "x": 0.05
          },
          "xaxis": {
           "automargin": true,
           "gridcolor": "white",
           "linecolor": "white",
           "ticks": "",
           "title": {
            "standoff": 15
           },
           "zerolinecolor": "white",
           "zerolinewidth": 2
          },
          "yaxis": {
           "automargin": true,
           "gridcolor": "white",
           "linecolor": "white",
           "ticks": "",
           "title": {
            "standoff": 15
           },
           "zerolinecolor": "white",
           "zerolinewidth": 2
          }
         }
        },
        "title": {
         "text": "Зависимость медианной заработной платы от готовности к переезду и к командировкам"
        },
        "xaxis": {
         "anchor": "y",
         "domain": [
          0,
          1
         ],
         "title": {
          "text": "Готовность к переезду"
         }
        },
        "yaxis": {
         "anchor": "x",
         "domain": [
          0,
          1
         ],
         "title": {
          "text": "value"
         }
        }
       }
      }
     },
     "metadata": {},
     "output_type": "display_data"
    }
   ],
   "source": [
    "temp = merged_data.pivot_table(\n",
    "    values='ЗП',\n",
    "    index= 'Готовность к переезду',\n",
    "    columns='Готовность к командировкам',\n",
    "    aggfunc='median') # формируем df\n",
    "\n",
    "#строим график для задания 4.6\n",
    "fig = px.bar(\n",
    "    temp, #DataFrame\n",
    "    title = \"Зависимость медианной заработной платы от готовности к переезду и к командировкам\", #заголовок\n",
    "    text_auto = True #отображаем значения на самих столбцах\n",
    "    );\n",
    "fig.show() #отображаем график\n",
    "fig.write_html(\"data/Зависимость медианной заработной платы от переезда и командировок.html\") #сохраняем график"
   ]
  },
  {
   "attachments": {},
   "cell_type": "markdown",
   "metadata": {},
   "source": [
    "Соискатели готовые к переезду в целом рассчитывают на больший уровень мотивации. Вероятность командировок повышает зарплатные ожидания в ~1,3 раза для готовых и не готовых к релокации соискателей."
   ]
  },
  {
   "cell_type": "code",
   "execution_count": null,
   "metadata": {},
   "outputs": [],
   "source": [
    "temp = merged_data.pivot_table(\n",
    "    values='ЗП',\n",
    "    index= 'Возраст',\n",
    "    columns='Образование',\n",
    "    aggfunc='median') # формируем df\n",
    "\n",
    "#строим график для задания 4.7\n",
    "fig = px.imshow(\n",
    "    temp, #DataFrame\n",
    "    title = \"ЗЗависимость медианной заработной платы от Возраста и Образования\", #заголовок\n",
    "    );\n",
    "fig.show() #отображаем график\n",
    "fig.write_html(\"data/Зависимость медианной заработной платы от Возраста и Образования.html\") #сохраняем график"
   ]
  },
  {
   "attachments": {},
   "cell_type": "markdown",
   "metadata": {},
   "source": [
    "Для категории соискателей с высшим образованием характерен плавный рост и плавный спад на рубеже 40 лет по ожидаемой заработной плате. Присутствует единичное ожидание более высокой оплаты труда в возрасте 69 лет. Для данной категории наблюдается системная готовность к работе после 60 лет. Присутствуют выбросы по возрасту до 18 лет.\n",
    "Для категории соискателей с неоконченным высшим образованием характерен плавный рост (до 42 лет) и более интенсивный спад по ожидаемой заработной плате. Присутствует единичное ожидание более высокой оплаты труда в возрасте 58 лет.\n",
    "Для категории соискателей с средним и средне специальным образованием значения ожидаемой заработной платы не имеют значительной разницы в зависимости от возраста. Присутствуют единичные выбросы по уровню оплаты труда и возрасту. Присутствуют выбросы по возрасту до 18 лет."
   ]
  },
  {
   "cell_type": "code",
   "execution_count": null,
   "metadata": {},
   "outputs": [],
   "source": [
    "merged_data.rename(columns = {'Опыт работы (месяц)':'Опыт работы'}, inplace = True) #переименовываем признак\n",
    "#temp = merged_data.copy()\n",
    "merged_data['Опыт работы'] = merged_data['Опыт работы']/12\n",
    "\n",
    "#строим график для задания 4.8\n",
    "fig = px.scatter(\n",
    "    merged_data, #DataFrame\n",
    "    x=\"Возраст\", #ось абсцисс\n",
    "    y=\"Опыт работы\", #ось ординат\n",
    "    height=850, #высота\n",
    "    width=850, #ширина\n",
    "    title = \"Зависимость опыта работы от возраста\", #заголовок\n",
    "    );\n",
    "fig.add_trace(\n",
    "    go.Scatter(\n",
    "        x=[0, 100],\n",
    "        y=[0, 100],\n",
    "        mode=\"lines\",\n",
    "        line=go.scatter.Line(color=\"gray\"),\n",
    "        showlegend=False)\n",
    ")\n",
    "fig.show() #отображаем график\n",
    "fig.write_html(\"data/Зависимость опыта работы от возраста.html\") #сохраняем график\n"
   ]
  },
  {
   "cell_type": "code",
   "execution_count": 37,
   "metadata": {},
   "outputs": [
    {
     "data": {
      "application/vnd.plotly.v1+json": {
       "config": {
        "plotlyServerURL": "https://plot.ly"
       },
       "data": [
        {
         "alignmentgroup": "True",
         "hovertemplate": "Пол=Ж<br>Образование=%{x}<br>value=%{y}<extra></extra>",
         "legendgroup": "Ж",
         "marker": {
          "color": "#636efa",
          "pattern": {
           "shape": ""
          }
         },
         "name": "Ж",
         "offsetgroup": "Ж",
         "orientation": "v",
         "showlegend": true,
         "textposition": "auto",
         "texttemplate": "%{y}",
         "type": "bar",
         "x": [
          "Cреднее",
          "Высшее",
          "Неоконченное высшее",
          "Среднее специальное"
         ],
         "xaxis": "x",
         "y": [
          39456.95012658228,
          65083.3985439397,
          45083.69993975904,
          34355.659915824916
         ],
         "yaxis": "y"
        },
        {
         "alignmentgroup": "True",
         "hovertemplate": "Пол=М<br>Образование=%{x}<br>value=%{y}<extra></extra>",
         "legendgroup": "М",
         "marker": {
          "color": "#EF553B",
          "pattern": {
           "shape": ""
          }
         },
         "name": "М",
         "offsetgroup": "М",
         "orientation": "v",
         "showlegend": true,
         "textposition": "auto",
         "texttemplate": "%{y}",
         "type": "bar",
         "x": [
          "Cреднее",
          "Высшее",
          "Неоконченное высшее",
          "Среднее специальное"
         ],
         "xaxis": "x",
         "y": [
          56152.22640020833,
          88942.26276043996,
          64829.603703365014,
          48044.4986237382
         ],
         "yaxis": "y"
        }
       ],
       "layout": {
        "barmode": "relative",
        "legend": {
         "title": {
          "text": "Пол"
         },
         "tracegroupgap": 0
        },
        "template": {
         "data": {
          "bar": [
           {
            "error_x": {
             "color": "#2a3f5f"
            },
            "error_y": {
             "color": "#2a3f5f"
            },
            "marker": {
             "line": {
              "color": "#E5ECF6",
              "width": 0.5
             },
             "pattern": {
              "fillmode": "overlay",
              "size": 10,
              "solidity": 0.2
             }
            },
            "type": "bar"
           }
          ],
          "barpolar": [
           {
            "marker": {
             "line": {
              "color": "#E5ECF6",
              "width": 0.5
             },
             "pattern": {
              "fillmode": "overlay",
              "size": 10,
              "solidity": 0.2
             }
            },
            "type": "barpolar"
           }
          ],
          "carpet": [
           {
            "aaxis": {
             "endlinecolor": "#2a3f5f",
             "gridcolor": "white",
             "linecolor": "white",
             "minorgridcolor": "white",
             "startlinecolor": "#2a3f5f"
            },
            "baxis": {
             "endlinecolor": "#2a3f5f",
             "gridcolor": "white",
             "linecolor": "white",
             "minorgridcolor": "white",
             "startlinecolor": "#2a3f5f"
            },
            "type": "carpet"
           }
          ],
          "choropleth": [
           {
            "colorbar": {
             "outlinewidth": 0,
             "ticks": ""
            },
            "type": "choropleth"
           }
          ],
          "contour": [
           {
            "colorbar": {
             "outlinewidth": 0,
             "ticks": ""
            },
            "colorscale": [
             [
              0,
              "#0d0887"
             ],
             [
              0.1111111111111111,
              "#46039f"
             ],
             [
              0.2222222222222222,
              "#7201a8"
             ],
             [
              0.3333333333333333,
              "#9c179e"
             ],
             [
              0.4444444444444444,
              "#bd3786"
             ],
             [
              0.5555555555555556,
              "#d8576b"
             ],
             [
              0.6666666666666666,
              "#ed7953"
             ],
             [
              0.7777777777777778,
              "#fb9f3a"
             ],
             [
              0.8888888888888888,
              "#fdca26"
             ],
             [
              1,
              "#f0f921"
             ]
            ],
            "type": "contour"
           }
          ],
          "contourcarpet": [
           {
            "colorbar": {
             "outlinewidth": 0,
             "ticks": ""
            },
            "type": "contourcarpet"
           }
          ],
          "heatmap": [
           {
            "colorbar": {
             "outlinewidth": 0,
             "ticks": ""
            },
            "colorscale": [
             [
              0,
              "#0d0887"
             ],
             [
              0.1111111111111111,
              "#46039f"
             ],
             [
              0.2222222222222222,
              "#7201a8"
             ],
             [
              0.3333333333333333,
              "#9c179e"
             ],
             [
              0.4444444444444444,
              "#bd3786"
             ],
             [
              0.5555555555555556,
              "#d8576b"
             ],
             [
              0.6666666666666666,
              "#ed7953"
             ],
             [
              0.7777777777777778,
              "#fb9f3a"
             ],
             [
              0.8888888888888888,
              "#fdca26"
             ],
             [
              1,
              "#f0f921"
             ]
            ],
            "type": "heatmap"
           }
          ],
          "heatmapgl": [
           {
            "colorbar": {
             "outlinewidth": 0,
             "ticks": ""
            },
            "colorscale": [
             [
              0,
              "#0d0887"
             ],
             [
              0.1111111111111111,
              "#46039f"
             ],
             [
              0.2222222222222222,
              "#7201a8"
             ],
             [
              0.3333333333333333,
              "#9c179e"
             ],
             [
              0.4444444444444444,
              "#bd3786"
             ],
             [
              0.5555555555555556,
              "#d8576b"
             ],
             [
              0.6666666666666666,
              "#ed7953"
             ],
             [
              0.7777777777777778,
              "#fb9f3a"
             ],
             [
              0.8888888888888888,
              "#fdca26"
             ],
             [
              1,
              "#f0f921"
             ]
            ],
            "type": "heatmapgl"
           }
          ],
          "histogram": [
           {
            "marker": {
             "pattern": {
              "fillmode": "overlay",
              "size": 10,
              "solidity": 0.2
             }
            },
            "type": "histogram"
           }
          ],
          "histogram2d": [
           {
            "colorbar": {
             "outlinewidth": 0,
             "ticks": ""
            },
            "colorscale": [
             [
              0,
              "#0d0887"
             ],
             [
              0.1111111111111111,
              "#46039f"
             ],
             [
              0.2222222222222222,
              "#7201a8"
             ],
             [
              0.3333333333333333,
              "#9c179e"
             ],
             [
              0.4444444444444444,
              "#bd3786"
             ],
             [
              0.5555555555555556,
              "#d8576b"
             ],
             [
              0.6666666666666666,
              "#ed7953"
             ],
             [
              0.7777777777777778,
              "#fb9f3a"
             ],
             [
              0.8888888888888888,
              "#fdca26"
             ],
             [
              1,
              "#f0f921"
             ]
            ],
            "type": "histogram2d"
           }
          ],
          "histogram2dcontour": [
           {
            "colorbar": {
             "outlinewidth": 0,
             "ticks": ""
            },
            "colorscale": [
             [
              0,
              "#0d0887"
             ],
             [
              0.1111111111111111,
              "#46039f"
             ],
             [
              0.2222222222222222,
              "#7201a8"
             ],
             [
              0.3333333333333333,
              "#9c179e"
             ],
             [
              0.4444444444444444,
              "#bd3786"
             ],
             [
              0.5555555555555556,
              "#d8576b"
             ],
             [
              0.6666666666666666,
              "#ed7953"
             ],
             [
              0.7777777777777778,
              "#fb9f3a"
             ],
             [
              0.8888888888888888,
              "#fdca26"
             ],
             [
              1,
              "#f0f921"
             ]
            ],
            "type": "histogram2dcontour"
           }
          ],
          "mesh3d": [
           {
            "colorbar": {
             "outlinewidth": 0,
             "ticks": ""
            },
            "type": "mesh3d"
           }
          ],
          "parcoords": [
           {
            "line": {
             "colorbar": {
              "outlinewidth": 0,
              "ticks": ""
             }
            },
            "type": "parcoords"
           }
          ],
          "pie": [
           {
            "automargin": true,
            "type": "pie"
           }
          ],
          "scatter": [
           {
            "fillpattern": {
             "fillmode": "overlay",
             "size": 10,
             "solidity": 0.2
            },
            "type": "scatter"
           }
          ],
          "scatter3d": [
           {
            "line": {
             "colorbar": {
              "outlinewidth": 0,
              "ticks": ""
             }
            },
            "marker": {
             "colorbar": {
              "outlinewidth": 0,
              "ticks": ""
             }
            },
            "type": "scatter3d"
           }
          ],
          "scattercarpet": [
           {
            "marker": {
             "colorbar": {
              "outlinewidth": 0,
              "ticks": ""
             }
            },
            "type": "scattercarpet"
           }
          ],
          "scattergeo": [
           {
            "marker": {
             "colorbar": {
              "outlinewidth": 0,
              "ticks": ""
             }
            },
            "type": "scattergeo"
           }
          ],
          "scattergl": [
           {
            "marker": {
             "colorbar": {
              "outlinewidth": 0,
              "ticks": ""
             }
            },
            "type": "scattergl"
           }
          ],
          "scattermapbox": [
           {
            "marker": {
             "colorbar": {
              "outlinewidth": 0,
              "ticks": ""
             }
            },
            "type": "scattermapbox"
           }
          ],
          "scatterpolar": [
           {
            "marker": {
             "colorbar": {
              "outlinewidth": 0,
              "ticks": ""
             }
            },
            "type": "scatterpolar"
           }
          ],
          "scatterpolargl": [
           {
            "marker": {
             "colorbar": {
              "outlinewidth": 0,
              "ticks": ""
             }
            },
            "type": "scatterpolargl"
           }
          ],
          "scatterternary": [
           {
            "marker": {
             "colorbar": {
              "outlinewidth": 0,
              "ticks": ""
             }
            },
            "type": "scatterternary"
           }
          ],
          "surface": [
           {
            "colorbar": {
             "outlinewidth": 0,
             "ticks": ""
            },
            "colorscale": [
             [
              0,
              "#0d0887"
             ],
             [
              0.1111111111111111,
              "#46039f"
             ],
             [
              0.2222222222222222,
              "#7201a8"
             ],
             [
              0.3333333333333333,
              "#9c179e"
             ],
             [
              0.4444444444444444,
              "#bd3786"
             ],
             [
              0.5555555555555556,
              "#d8576b"
             ],
             [
              0.6666666666666666,
              "#ed7953"
             ],
             [
              0.7777777777777778,
              "#fb9f3a"
             ],
             [
              0.8888888888888888,
              "#fdca26"
             ],
             [
              1,
              "#f0f921"
             ]
            ],
            "type": "surface"
           }
          ],
          "table": [
           {
            "cells": {
             "fill": {
              "color": "#EBF0F8"
             },
             "line": {
              "color": "white"
             }
            },
            "header": {
             "fill": {
              "color": "#C8D4E3"
             },
             "line": {
              "color": "white"
             }
            },
            "type": "table"
           }
          ]
         },
         "layout": {
          "annotationdefaults": {
           "arrowcolor": "#2a3f5f",
           "arrowhead": 0,
           "arrowwidth": 1
          },
          "autotypenumbers": "strict",
          "coloraxis": {
           "colorbar": {
            "outlinewidth": 0,
            "ticks": ""
           }
          },
          "colorscale": {
           "diverging": [
            [
             0,
             "#8e0152"
            ],
            [
             0.1,
             "#c51b7d"
            ],
            [
             0.2,
             "#de77ae"
            ],
            [
             0.3,
             "#f1b6da"
            ],
            [
             0.4,
             "#fde0ef"
            ],
            [
             0.5,
             "#f7f7f7"
            ],
            [
             0.6,
             "#e6f5d0"
            ],
            [
             0.7,
             "#b8e186"
            ],
            [
             0.8,
             "#7fbc41"
            ],
            [
             0.9,
             "#4d9221"
            ],
            [
             1,
             "#276419"
            ]
           ],
           "sequential": [
            [
             0,
             "#0d0887"
            ],
            [
             0.1111111111111111,
             "#46039f"
            ],
            [
             0.2222222222222222,
             "#7201a8"
            ],
            [
             0.3333333333333333,
             "#9c179e"
            ],
            [
             0.4444444444444444,
             "#bd3786"
            ],
            [
             0.5555555555555556,
             "#d8576b"
            ],
            [
             0.6666666666666666,
             "#ed7953"
            ],
            [
             0.7777777777777778,
             "#fb9f3a"
            ],
            [
             0.8888888888888888,
             "#fdca26"
            ],
            [
             1,
             "#f0f921"
            ]
           ],
           "sequentialminus": [
            [
             0,
             "#0d0887"
            ],
            [
             0.1111111111111111,
             "#46039f"
            ],
            [
             0.2222222222222222,
             "#7201a8"
            ],
            [
             0.3333333333333333,
             "#9c179e"
            ],
            [
             0.4444444444444444,
             "#bd3786"
            ],
            [
             0.5555555555555556,
             "#d8576b"
            ],
            [
             0.6666666666666666,
             "#ed7953"
            ],
            [
             0.7777777777777778,
             "#fb9f3a"
            ],
            [
             0.8888888888888888,
             "#fdca26"
            ],
            [
             1,
             "#f0f921"
            ]
           ]
          },
          "colorway": [
           "#636efa",
           "#EF553B",
           "#00cc96",
           "#ab63fa",
           "#FFA15A",
           "#19d3f3",
           "#FF6692",
           "#B6E880",
           "#FF97FF",
           "#FECB52"
          ],
          "font": {
           "color": "#2a3f5f"
          },
          "geo": {
           "bgcolor": "white",
           "lakecolor": "white",
           "landcolor": "#E5ECF6",
           "showlakes": true,
           "showland": true,
           "subunitcolor": "white"
          },
          "hoverlabel": {
           "align": "left"
          },
          "hovermode": "closest",
          "mapbox": {
           "style": "light"
          },
          "paper_bgcolor": "white",
          "plot_bgcolor": "#E5ECF6",
          "polar": {
           "angularaxis": {
            "gridcolor": "white",
            "linecolor": "white",
            "ticks": ""
           },
           "bgcolor": "#E5ECF6",
           "radialaxis": {
            "gridcolor": "white",
            "linecolor": "white",
            "ticks": ""
           }
          },
          "scene": {
           "xaxis": {
            "backgroundcolor": "#E5ECF6",
            "gridcolor": "white",
            "gridwidth": 2,
            "linecolor": "white",
            "showbackground": true,
            "ticks": "",
            "zerolinecolor": "white"
           },
           "yaxis": {
            "backgroundcolor": "#E5ECF6",
            "gridcolor": "white",
            "gridwidth": 2,
            "linecolor": "white",
            "showbackground": true,
            "ticks": "",
            "zerolinecolor": "white"
           },
           "zaxis": {
            "backgroundcolor": "#E5ECF6",
            "gridcolor": "white",
            "gridwidth": 2,
            "linecolor": "white",
            "showbackground": true,
            "ticks": "",
            "zerolinecolor": "white"
           }
          },
          "shapedefaults": {
           "line": {
            "color": "#2a3f5f"
           }
          },
          "ternary": {
           "aaxis": {
            "gridcolor": "white",
            "linecolor": "white",
            "ticks": ""
           },
           "baxis": {
            "gridcolor": "white",
            "linecolor": "white",
            "ticks": ""
           },
           "bgcolor": "#E5ECF6",
           "caxis": {
            "gridcolor": "white",
            "linecolor": "white",
            "ticks": ""
           }
          },
          "title": {
           "x": 0.05
          },
          "xaxis": {
           "automargin": true,
           "gridcolor": "white",
           "linecolor": "white",
           "ticks": "",
           "title": {
            "standoff": 15
           },
           "zerolinecolor": "white",
           "zerolinewidth": 2
          },
          "yaxis": {
           "automargin": true,
           "gridcolor": "white",
           "linecolor": "white",
           "ticks": "",
           "title": {
            "standoff": 15
           },
           "zerolinecolor": "white",
           "zerolinewidth": 2
          }
         }
        },
        "title": {
         "text": "Зависимость средней заработной платы от пола и образования"
        },
        "xaxis": {
         "anchor": "y",
         "domain": [
          0,
          1
         ],
         "title": {
          "text": "Образование"
         }
        },
        "yaxis": {
         "anchor": "x",
         "domain": [
          0,
          1
         ],
         "title": {
          "text": "value"
         }
        }
       }
      }
     },
     "metadata": {},
     "output_type": "display_data"
    }
   ],
   "source": [
    "#строим график для задания 4.8\n",
    "#merged_data.info()\n",
    "\n",
    "temp = merged_data.pivot_table(\n",
    "    values='ЗП',\n",
    "    index= 'Образование',\n",
    "    columns='Пол',\n",
    "    aggfunc='mean') # формируем df\n",
    "\n",
    "#строим график для задания 4.6\n",
    "fig = px.bar(\n",
    "    temp, #DataFrame\n",
    "    title = \"Зависимость средней заработной платы от пола и образования\", #заголовок\n",
    "    text_auto = True #отображаем значения на самих столбцах\n",
    "    );\n",
    "fig.show() #отображаем график\n",
    "fig.write_html(\"data/Зависимость средней заработной платы от пола и образования.html\") #сохраняем график"
   ]
  },
  {
   "cell_type": "code",
   "execution_count": 3,
   "metadata": {},
   "outputs": [
    {
     "name": "stdout",
     "output_type": "stream",
     "text": [
      "Число выбросов по методу z-отклонения: 3\n",
      "Результирующее число записей: 44482\n"
     ]
    },
    {
     "data": {
      "text/html": [
       "<div>\n",
       "<style scoped>\n",
       "    .dataframe tbody tr th:only-of-type {\n",
       "        vertical-align: middle;\n",
       "    }\n",
       "\n",
       "    .dataframe tbody tr th {\n",
       "        vertical-align: top;\n",
       "    }\n",
       "\n",
       "    .dataframe thead th {\n",
       "        text-align: right;\n",
       "    }\n",
       "</style>\n",
       "<table border=\"1\" class=\"dataframe\">\n",
       "  <thead>\n",
       "    <tr style=\"text-align: right;\">\n",
       "      <th></th>\n",
       "      <th>ЗП</th>\n",
       "      <th>Ищет работу на должность:</th>\n",
       "      <th>Последнее/нынешнее место работы</th>\n",
       "      <th>Последняя/нынешняя должность</th>\n",
       "      <th>Обновление резюме</th>\n",
       "      <th>Авто</th>\n",
       "      <th>Образование</th>\n",
       "      <th>Возраст</th>\n",
       "      <th>Пол</th>\n",
       "      <th>Опыт работы</th>\n",
       "      <th>...</th>\n",
       "      <th>полная занятость</th>\n",
       "      <th>частичная занятость</th>\n",
       "      <th>проектная работа</th>\n",
       "      <th>волонтерство</th>\n",
       "      <th>стажировка</th>\n",
       "      <th>полный день</th>\n",
       "      <th>сменный график</th>\n",
       "      <th>гибкий график</th>\n",
       "      <th>удаленная работа</th>\n",
       "      <th>вахтовый метод</th>\n",
       "    </tr>\n",
       "  </thead>\n",
       "  <tbody>\n",
       "    <tr>\n",
       "      <th>31137</th>\n",
       "      <td>10000.0</td>\n",
       "      <td>Менеджер по работе с клиентами</td>\n",
       "      <td>ООО \"ФёрстКэшКомпани\"</td>\n",
       "      <td>Менеджер по работе с клиентами</td>\n",
       "      <td>2019-04-06</td>\n",
       "      <td>Не указано</td>\n",
       "      <td>Cреднее</td>\n",
       "      <td>15</td>\n",
       "      <td>М</td>\n",
       "      <td>0.166667</td>\n",
       "      <td>...</td>\n",
       "      <td>False</td>\n",
       "      <td>True</td>\n",
       "      <td>False</td>\n",
       "      <td>False</td>\n",
       "      <td>False</td>\n",
       "      <td>False</td>\n",
       "      <td>True</td>\n",
       "      <td>True</td>\n",
       "      <td>True</td>\n",
       "      <td>False</td>\n",
       "    </tr>\n",
       "    <tr>\n",
       "      <th>32950</th>\n",
       "      <td>2000.0</td>\n",
       "      <td>Тестировщик игр</td>\n",
       "      <td>OOO ЖМЫХ</td>\n",
       "      <td>Тестировщик ПО</td>\n",
       "      <td>2019-04-09</td>\n",
       "      <td>Не указано</td>\n",
       "      <td>Среднее специальное</td>\n",
       "      <td>15</td>\n",
       "      <td>М</td>\n",
       "      <td>0.250000</td>\n",
       "      <td>...</td>\n",
       "      <td>True</td>\n",
       "      <td>False</td>\n",
       "      <td>False</td>\n",
       "      <td>False</td>\n",
       "      <td>False</td>\n",
       "      <td>True</td>\n",
       "      <td>False</td>\n",
       "      <td>False</td>\n",
       "      <td>False</td>\n",
       "      <td>False</td>\n",
       "    </tr>\n",
       "    <tr>\n",
       "      <th>33654</th>\n",
       "      <td>60000.0</td>\n",
       "      <td>Frontend-разработчик</td>\n",
       "      <td>Freelance</td>\n",
       "      <td>Frontend-разработчик</td>\n",
       "      <td>2019-04-19</td>\n",
       "      <td>Не указано</td>\n",
       "      <td>Среднее специальное</td>\n",
       "      <td>10</td>\n",
       "      <td>М</td>\n",
       "      <td>2.500000</td>\n",
       "      <td>...</td>\n",
       "      <td>True</td>\n",
       "      <td>True</td>\n",
       "      <td>True</td>\n",
       "      <td>False</td>\n",
       "      <td>True</td>\n",
       "      <td>True</td>\n",
       "      <td>False</td>\n",
       "      <td>True</td>\n",
       "      <td>True</td>\n",
       "      <td>False</td>\n",
       "    </tr>\n",
       "  </tbody>\n",
       "</table>\n",
       "<p>3 rows × 23 columns</p>\n",
       "</div>"
      ],
      "text/plain": [
       "            ЗП       Ищет работу на должность:  \\\n",
       "31137  10000.0  Менеджер по работе с клиентами   \n",
       "32950   2000.0                 Тестировщик игр   \n",
       "33654  60000.0            Frontend-разработчик   \n",
       "\n",
       "      Последнее/нынешнее место работы    Последняя/нынешняя должность  \\\n",
       "31137           ООО \"ФёрстКэшКомпани\"  Менеджер по работе с клиентами   \n",
       "32950                        OOO ЖМЫХ                  Тестировщик ПО   \n",
       "33654                       Freelance            Frontend-разработчик   \n",
       "\n",
       "      Обновление резюме        Авто          Образование  Возраст Пол  \\\n",
       "31137        2019-04-06  Не указано              Cреднее       15   М   \n",
       "32950        2019-04-09  Не указано  Среднее специальное       15   М   \n",
       "33654        2019-04-19  Не указано  Среднее специальное       10   М   \n",
       "\n",
       "       Опыт работы  ... полная занятость  частичная занятость  \\\n",
       "31137     0.166667  ...            False                 True   \n",
       "32950     0.250000  ...             True                False   \n",
       "33654     2.500000  ...             True                 True   \n",
       "\n",
       "       проектная работа  волонтерство  стажировка  полный день  \\\n",
       "31137             False         False       False        False   \n",
       "32950             False         False       False         True   \n",
       "33654              True         False        True         True   \n",
       "\n",
       "       сменный график  гибкий график  удаленная работа  вахтовый метод  \n",
       "31137            True           True              True           False  \n",
       "32950           False          False             False           False  \n",
       "33654           False           True              True           False  \n",
       "\n",
       "[3 rows x 23 columns]"
      ]
     },
     "metadata": {},
     "output_type": "display_data"
    },
    {
     "name": "stdout",
     "output_type": "stream",
     "text": [
      "<class 'pandas.core.frame.DataFrame'>\n",
      "Int64Index: 44482 entries, 0 to 44743\n",
      "Data columns (total 23 columns):\n",
      " #   Column                           Non-Null Count  Dtype         \n",
      "---  ------                           --------------  -----         \n",
      " 0   ЗП                               44482 non-null  float64       \n",
      " 1   Ищет работу на должность:        44482 non-null  object        \n",
      " 2   Последнее/нынешнее место работы  44482 non-null  object        \n",
      " 3   Последняя/нынешняя должность     44482 non-null  object        \n",
      " 4   Обновление резюме                44482 non-null  datetime64[ns]\n",
      " 5   Авто                             44482 non-null  object        \n",
      " 6   Образование                      44482 non-null  object        \n",
      " 7   Возраст                          44482 non-null  int64         \n",
      " 8   Пол                              44482 non-null  string        \n",
      " 9   Опыт работы                      44482 non-null  float64       \n",
      " 10  Город                            44482 non-null  object        \n",
      " 11  Готовность к переезду            44482 non-null  bool          \n",
      " 12  Готовность к командировкам       44482 non-null  bool          \n",
      " 13  полная занятость                 44482 non-null  bool          \n",
      " 14  частичная занятость              44482 non-null  bool          \n",
      " 15  проектная работа                 44482 non-null  bool          \n",
      " 16  волонтерство                     44482 non-null  bool          \n",
      " 17  стажировка                       44482 non-null  bool          \n",
      " 18  полный день                      44482 non-null  bool          \n",
      " 19  сменный график                   44482 non-null  bool          \n",
      " 20  гибкий график                    44482 non-null  bool          \n",
      " 21  удаленная работа                 44482 non-null  bool          \n",
      " 22  вахтовый метод                   44482 non-null  bool          \n",
      "dtypes: bool(12), datetime64[ns](1), float64(2), int64(1), object(6), string(1)\n",
      "memory usage: 4.6+ MB\n"
     ]
    },
    {
     "data": {
      "image/png": "[encoded data removed]",
      "text/plain": [
       "<Figure size 800x400 with 1 Axes>"
      ]
     },
     "metadata": {},
     "output_type": "display_data"
    }
   ],
   "source": [
    "merged_data.duplicated() #проверяем наличие дубликатов\n",
    "merged_data = merged_data.drop_duplicates() #удалем их\n",
    "#display(merged_data.info())\n",
    "\n",
    "mask = ['Последнее/нынешнее место работы', 'Последняя/нынешняя должность'] #маска пропусков\n",
    "#удаляем строки по маске пропусков\n",
    "merged_data = merged_data.dropna(subset=mask, axis=0)\n",
    "# заполняем пропуски медианным значением\n",
    "merged_data = merged_data.fillna({'Опыт работы': merged_data['Опыт работы'].median()}) \n",
    "# удаляем строки, где заработная плата либо выше 1 миллиона рублей, либо ниже 1 тысячи рублей\n",
    "merged_data = merged_data.drop(merged_data[(merged_data['ЗП'] > 1000000) | (merged_data['ЗП'] < 1000)].index, axis=0)\n",
    "# удаляем строки, в которых опыт работы в годах превышал возраст соискателя\n",
    "merged_data = merged_data.drop(merged_data[merged_data['Опыт работы'] > merged_data['Возраст']].index, axis=0)\n",
    "\n",
    "import matplotlib.pyplot as plt\n",
    "import seaborn as sns\n",
    "fig, ax = plt.subplots(1, 1, figsize=(8, 4))\n",
    "log_age = np.log(merged_data['Возраст'] + 1)\n",
    "histplot = sns.histplot(log_age, bins=30, ax=ax)\n",
    "histplot.axvline(log_age.mean(), color='k', lw=2)\n",
    "histplot.axvline(log_age.mean()+ 4 * log_age.std(), color='k', ls='--', lw=2)\n",
    "histplot.axvline(log_age.mean()- 3 * log_age.std(), color='k', ls='--', lw=2)\n",
    "\n",
    "def outliers_z_score_mod(data, feature, log_scale=False, left = 3, right = 3):\n",
    "    if log_scale:\n",
    "        x = np.log(data[feature]+1)\n",
    "    else:\n",
    "        x = data[feature]\n",
    "    mu = x.mean()\n",
    "    sigma = x.std()\n",
    "    lower_bound = mu - left * sigma\n",
    "    upper_bound = mu + right * sigma\n",
    "    outliers = data[(x < lower_bound) | (x > upper_bound)]\n",
    "    cleaned = data[(x > lower_bound) & (x < upper_bound)]\n",
    "    return outliers, cleaned\n",
    "outliers, cleaned = outliers_z_score_mod(merged_data, 'Возраст', log_scale=True, left = 3, right = 4)\n",
    "print(f'Число выбросов по методу z-отклонения: {outliers.shape[0]}')\n",
    "print(f'Результирующее число записей: {cleaned.shape[0]}')\n",
    "display(outliers)\n",
    "merged_data = merged_data.drop(outliers.index, axis=0)\n",
    "merged_data.info()"
   ]
  },
  {
   "attachments": {},
   "cell_type": "markdown",
   "metadata": {},
   "source": [
    "Логарифмическое распределение асимметрично в левую сторону. В \"выбросы\" попали резюме соискателей возрастом младше 18 лет."
   ]
  }
 ],
 "metadata": {
  "kernelspec": {
   "display_name": "Python 3",
   "language": "python",
   "name": "python3"
  },
  "language_info": {
   "codemirror_mode": {
    "name": "ipython",
    "version": 3
   },
   "file_extension": ".py",
   "mimetype": "text/x-python",
   "name": "python",
   "nbconvert_exporter": "python",
   "pygments_lexer": "ipython3",
   "version": "3.10.9"
  },
  "orig_nbformat": 4,
  "vscode": {
   "interpreter": {
    "hash": "a9ab1230eb6c12b17398affaf841b5de97ccf4be090dc75644a8915ecb3fb276"
   }
  }
 },
 "nbformat": 4,
 "nbformat_minor": 2
}
