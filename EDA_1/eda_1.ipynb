{
 "cells": [
  {
   "cell_type": "code",
   "execution_count": 2,
   "metadata": {},
   "outputs": [],
   "source": [
    "import pandas as pd\n",
    "import numpy as np\n"
   ]
  },
  {
   "cell_type": "code",
   "execution_count": 3,
   "metadata": {},
   "outputs": [
    {
     "name": "stdout",
     "output_type": "stream",
     "text": [
      "<class 'pandas.core.frame.DataFrame'>\n",
      "RangeIndex: 129971 entries, 0 to 129970\n",
      "Data columns (total 13 columns):\n",
      " #   Column                 Non-Null Count   Dtype  \n",
      "---  ------                 --------------   -----  \n",
      " 0   country                129908 non-null  object \n",
      " 1   description            129971 non-null  object \n",
      " 2   designation            92506 non-null   object \n",
      " 3   points                 129971 non-null  int64  \n",
      " 4   price                  120975 non-null  float64\n",
      " 5   province               129908 non-null  object \n",
      " 6   region_1               108724 non-null  object \n",
      " 7   region_2               50511 non-null   object \n",
      " 8   taster_name            103727 non-null  object \n",
      " 9   taster_twitter_handle  98758 non-null   object \n",
      " 10  title                  129971 non-null  object \n",
      " 11  variety                129970 non-null  object \n",
      " 12  winery                 129971 non-null  object \n",
      "dtypes: float64(1), int64(1), object(11)\n",
      "memory usage: 12.9+ MB\n"
     ]
    }
   ],
   "source": [
    "#читаем файл и создаем его копию\n",
    "wine_db = pd.read_csv('wine.csv')\n",
    "rough_data = wine_db.copy()\n",
    "rough_data.info()"
   ]
  },
  {
   "cell_type": "code",
   "execution_count": 4,
   "metadata": {},
   "outputs": [
    {
     "data": {
      "text/plain": [
       "count         103727\n",
       "unique            19\n",
       "top       Roger Voss\n",
       "freq           25514\n",
       "Name: taster_name, dtype: object"
      ]
     },
     "execution_count": 4,
     "metadata": {},
     "output_type": "execute_result"
    }
   ],
   "source": [
    "rough_data['taster_name'].describe()"
   ]
  },
  {
   "cell_type": "code",
   "execution_count": 5,
   "metadata": {},
   "outputs": [
    {
     "data": {
      "text/plain": [
       "count    120975.000000\n",
       "mean         35.363389\n",
       "std          41.022218\n",
       "min           4.000000\n",
       "25%          17.000000\n",
       "50%          25.000000\n",
       "75%          42.000000\n",
       "max        3300.000000\n",
       "Name: price, dtype: float64"
      ]
     },
     "execution_count": 5,
     "metadata": {},
     "output_type": "execute_result"
    }
   ],
   "source": [
    "rough_data['price'].describe()"
   ]
  },
  {
   "cell_type": "code",
   "execution_count": 6,
   "metadata": {},
   "outputs": [
    {
     "name": "stdout",
     "output_type": "stream",
     "text": [
      "Число найденных дубликатов: 9983\n",
      "Результирующее число записей: 119988\n"
     ]
    }
   ],
   "source": [
    "# 5.3 Проанализируйте датасет на наличие дублирующихся винных обзоров. Если дублирующиеся записи есть, удалите их.\n",
    "# В поле ниже введите, сколько дублирующихся записей вам удалось обнаружить.\n",
    "rough_data['title'].nunique()\n",
    "dupl_columns = list(rough_data.columns)\n",
    "\n",
    "mask = rough_data.duplicated(subset=dupl_columns)\n",
    "wine_duplicates = rough_data[mask]\n",
    "print(f'Число найденных дубликатов: {wine_duplicates.shape[0]}')\n",
    "\n",
    "cleared_data= rough_data.drop_duplicates(subset=dupl_columns)\n",
    "print(f'Результирующее число записей: {cleared_data.shape[0]}')"
   ]
  },
  {
   "cell_type": "code",
   "execution_count": 7,
   "metadata": {},
   "outputs": [
    {
     "data": {
      "text/plain": [
       "region_2                 61.021936\n",
       "designation              28.790379\n",
       "taster_twitter_handle    24.540787\n",
       "taster_name              20.766243\n",
       "region_1                 16.301630\n",
       "price                     6.996533\n",
       "country                   0.049172\n",
       "province                  0.049172\n",
       "variety                   0.000833\n",
       "dtype: float64"
      ]
     },
     "metadata": {},
     "output_type": "display_data"
    },
    {
     "name": "stderr",
     "output_type": "stream",
     "text": [
      "C:\\Users\\lepni\\AppData\\Local\\Temp\\ipykernel_13300\\468145460.py:6: SettingWithCopyWarning: \n",
      "A value is trying to be set on a copy of a slice from a DataFrame\n",
      "\n",
      "See the caveats in the documentation: https://pandas.pydata.org/pandas-docs/stable/user_guide/indexing.html#returning-a-view-versus-a-copy\n",
      "  cleared_data.drop('region_2', axis=1, inplace= True)\n"
     ]
    }
   ],
   "source": [
    "# 5.4 Проверьте датасет на наличие пропусков в данных\n",
    "# В каких из представленных признаках были обнаружены пропуски?\n",
    "cols_null_percent = cleared_data.isnull().mean() * 100\n",
    "cols_with_null = cols_null_percent[cols_null_percent>0].sort_values(ascending=False)\n",
    "display(cols_with_null)\n",
    "cleared_data.drop('region_2', axis=1, inplace= True)"
   ]
  },
  {
   "cell_type": "code",
   "execution_count": 12,
   "metadata": {},
   "outputs": [
    {
     "name": "stdout",
     "output_type": "stream",
     "text": [
      "<class 'pandas.core.frame.DataFrame'>\n",
      "Int64Index: 119988 entries, 0 to 129970\n",
      "Data columns (total 12 columns):\n",
      " #   Column                 Non-Null Count   Dtype  \n",
      "---  ------                 --------------   -----  \n",
      " 0   country                119988 non-null  object \n",
      " 1   description            119988 non-null  object \n",
      " 2   designation            119988 non-null  object \n",
      " 3   points                 119988 non-null  int64  \n",
      " 4   price                  119988 non-null  float64\n",
      " 5   province               119988 non-null  object \n",
      " 6   region_1               119988 non-null  object \n",
      " 7   taster_name            119988 non-null  object \n",
      " 8   taster_twitter_handle  119988 non-null  object \n",
      " 9   title                  119988 non-null  object \n",
      " 10  variety                119988 non-null  object \n",
      " 11  winery                 119988 non-null  object \n",
      "dtypes: float64(1), int64(1), object(10)\n",
      "memory usage: 11.9+ MB\n"
     ]
    }
   ],
   "source": [
    "# 5.5 Обработайте пропущенные значения в наборе данных любым известным вам способом\n",
    "fill_data = cleared_data.copy()\n",
    "#создаем словарь имя столбца: число(признак) на который надо заменить пропуски\n",
    "values = {\n",
    "    'price': fill_data['price'].mean(),\n",
    "    'country': 'US',\n",
    "    'province': 'California',\n",
    "    'variety': 'Pinot Noir'\n",
    "    }\n",
    "fill_data = fill_data.fillna(values)\n",
    "\n",
    "fill_data['designation'] = fill_data['designation'].fillna('unknown')\n",
    "fill_data['region_1'] = fill_data['region_1'].fillna('unknown')\n",
    "fill_data['taster_name'] = fill_data['taster_name'].fillna('unknown')\n",
    "fill_data['taster_twitter_handle'] = fill_data['taster_twitter_handle'].fillna('unknown')\n",
    "fill_data.info()"
   ]
  }
 ],
 "metadata": {
  "kernelspec": {
   "display_name": "Python 3",
   "language": "python",
   "name": "python3"
  },
  "language_info": {
   "codemirror_mode": {
    "name": "ipython",
    "version": 3
   },
   "file_extension": ".py",
   "mimetype": "text/x-python",
   "name": "python",
   "nbconvert_exporter": "python",
   "pygments_lexer": "ipython3",
   "version": "3.10.9"
  },
  "orig_nbformat": 4
 },
 "nbformat": 4,
 "nbformat_minor": 2
}
