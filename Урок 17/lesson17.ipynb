{
 "cells": [
  {
   "cell_type": "code",
   "execution_count": 9,
   "metadata": {},
   "outputs": [
    {
     "name": "stdout",
     "output_type": "stream",
     "text": [
      "{'CharCode': 'EUR',\n",
      " 'ID': 'R01239',\n",
      " 'Name': 'Евро',\n",
      " 'Nominal': 1,\n",
      " 'NumCode': '978',\n",
      " 'Previous': 79.133,\n",
      " 'Value': 79.7588}\n",
      "Чешских крон\n"
     ]
    }
   ],
   "source": [
    "import requests # Импортируем библиотеку requests\n",
    "from pprint import pprint\n",
    "url = 'https://www.cbr-xml-daily.ru/daily_json.js' # Определяем значение URL страницы для запроса\n",
    "response = requests.get(url) # Делаем GET-запрос к ресурсу и результат ответа сохраняем в переменной response\n",
    "#print(response)\n",
    "#print(response.status_code) # Выводим числовое значение response на экран\n",
    "#print(type(response))\n",
    "#print(response.text)\n",
    "currencies = response.json() # Применяем метод json()\n",
    "#pprint(currencies) # Выводим результат на экран)\n",
    "pprint(currencies['Valute']['EUR']) # Выводим на экран информацию о валюте евро\n",
    "print(currencies['Valute']['CZK']['Name'])"
   ]
  },
  {
   "cell_type": "code",
   "execution_count": 8,
   "metadata": {},
   "outputs": [
    {
     "name": "stdout",
     "output_type": "stream",
     "text": [
      "\n",
      "11.10.21\n",
      "\n"
     ]
    }
   ],
   "source": [
    "import requests # Импортируем библиотеку requests\n",
    "from bs4 import BeautifulSoup # Импортируем библиотеку BeautifulSoup\n",
    "url = 'https://nplus1.ru/news/2021/10/11/econobel2021' # Определяем адрес страницы\n",
    "response = requests.get(url)  # Выполняем GET-запрос\n",
    "#print(response.text)  # Выводим содержимое атрибута text\n",
    "page = BeautifulSoup(response.text, 'html.parser') # Создаём объект BeautifulSoup, указывая html-парсер\n",
    "#print(page.title) # Получаем тег title, отображающийся на вкладке браузера\n",
    "#print(page.title.text) # Выводим текст из полученного тега, который содержится в атрибуте text\n",
    "#print(page.find('div').text)\n",
    "#print(page.find('div', class_='n1_material text-18').text) # Выводим содержимое атрибута text тега div класса n1_material text-18\n",
    "# Выводим на экран содержимое атрибута text тега a с классом \"relative\"\n"
   ]
  },
  {
   "cell_type": "code",
   "execution_count": 13,
   "metadata": {},
   "outputs": [
    {
     "name": "stdout",
     "output_type": "stream",
     "text": [
      "952\n",
      "['MAD', 'MAD/I', 'Magik', 'Magma', 'Máni', 'Maple', 'MAPPER', 'MARK-IV', 'Mary', 'MATLAB']\n",
      "['Jump to content', '\\n\\n\\n\\n\\n\\n', '\\nSearch\\n', 'Create account', 'Log in', ' Create account', ' Log in', 'learn more', 'Contributions', 'Talk']\n"
     ]
    }
   ],
   "source": [
    "url = 'https://en.wikipedia.org/wiki/List_of_programming_languages' # Задаём адрес ресурса\n",
    "response = requests.get(url) # Делаем GET-запрос к ресурсу\n",
    "page = BeautifulSoup(response.text, 'html.parser') # Создаём объект BeautifulSoup\n",
    "links = page.find_all('a') # Ищем все ссылки на странице и сохраняем в переменной links в виде списка\n",
    "print(len(links))\n",
    "\n",
    "print([link.text for link in links[500:510]]) # Выводим ссылки с 500 по 509 включительно\n",
    "\n",
    "print([link.text for link in links[0:10]]) # Выводим ссылки с 1 по 9 включительно"
   ]
  },
  {
   "cell_type": "code",
   "execution_count": 8,
   "metadata": {},
   "outputs": [
    {
     "name": "stdout",
     "output_type": "stream",
     "text": [
      "{'response': [{'bdate': '10.10.1984',\n",
      "               'can_access_closed': True,\n",
      "               'first_name': 'Павел',\n",
      "               'id': 1,\n",
      "               'is_closed': False,\n",
      "               'last_name': 'Дуров'},\n",
      "              {'bdate': '14.2',\n",
      "               'can_access_closed': False,\n",
      "               'first_name': 'Александра',\n",
      "               'id': 2,\n",
      "               'is_closed': True,\n",
      "               'last_name': 'Владимирова'},\n",
      "              {'can_access_closed': True,\n",
      "               'deactivated': 'deleted',\n",
      "               'first_name': 'DELETED',\n",
      "               'id': 3,\n",
      "               'is_closed': False,\n",
      "               'last_name': ''}]}\n"
     ]
    }
   ],
   "source": [
    "import requests # Импортируем модуль requests\n",
    "from pprint import pprint\n",
    "token = '2e69a3572e69a3572e69a357ff2d7b734e22e692e69a3574d916ce31a0afab9b779f6aa' # Указываем свой сервисный токен\n",
    "url = 'https://api.vk.com/method/users.get' # Указываем адрес страницы к которой делаем запрос\n",
    "params = {'user_id': 1, 'v': 5.95, 'fields': 'sex,bdate', 'access_token': token, 'lang': 'ru'} # Перечисляем параметры нашего запроса в словаре params\n",
    "response = requests.get(url, params=params) # Отправляем запрос\n",
    "#print(response.text) # Выводим текст ответа на экран\n",
    "#pprint(response.json()) # Выводим содержимое словаря, содержащего ответ, на экран\n",
    "user = response.json()['response'][0] # Извлекаем из словаря по ключу response информацию о первом пользователе\n",
    "#print(user['first_name']) # Выводим дату рождения первого пользователя на экран\n",
    "ids = \",\".join(map(str, range(1, 4))) # Формируем строку, содержащую информацию о поле id первых трёх пользователей\n",
    "params = {'user_ids': ids, 'v': 5.95, 'fields': 'bdate', 'access_token': token, 'lang': 'ru'} # Формируем строку параметров\n",
    "pprint(requests.get(url, params=params).json()) # Посылаем запрос, полученный ответ в формате JSON-строки преобразуем в словарь и выводим на экран его содержимое, используя функцию pprint()"
   ]
  },
  {
   "cell_type": "code",
   "execution_count": 46,
   "metadata": {},
   "outputs": [
    {
     "data": {
      "text/plain": [
       "2    0.51\n",
       "1    0.49\n",
       "Name: sex, dtype: float64"
      ]
     },
     "execution_count": 46,
     "metadata": {},
     "output_type": "execute_result"
    }
   ],
   "source": [
    "import requests # Импортируем модуль requests\n",
    "from pprint import pprint\n",
    "import pandas as pd\n",
    "import numpy as np\n",
    "token = '2e69a3572e69a3572e69a357ff2d7b734e22e692e69a3574d916ce31a0afab9b779f6aa' # Указываем свой сервисный токен\n",
    "url = 'https://api.vk.com/method/users.get' # Указываем адрес страницы к которой делаем запрос\n",
    "params = {'user_id': 1, 'v': 5.95, 'fields': 'sex,bdate', 'access_token': token, 'lang': 'ru'} # Перечисляем параметры нашего запроса в словаре params\n",
    "response = requests.get(url, params=params) # Отправляем запрос\n",
    "ids = \",\".join(map(str, range(1, 501))) # Формируем строку, содержащую информацию о поле id первых трёх пользователей\n",
    "params = {'user_ids': ids, 'v': 5.95, 'fields': 'sex, bdate', 'access_token': token, 'lang': 'ru'} # Формируем строку параметров\n",
    "df = pd.DataFrame(requests.get(url, params=params).json())\n",
    "    \n",
    "df['id']=df['response'].apply(lambda arg: arg['id'] if 'id' in arg else np.nan)\n",
    "df['first_name']=df['response'].apply(lambda arg: arg['first_name'] if 'first_name' in arg else np.nan)\n",
    "df['last_name'] =df['response'].apply(lambda arg: arg['last_name'] if 'last_name' in arg else np.nan)\n",
    "df['bdate']=df['response'].apply(lambda arg: arg['bdate'] if 'bdate' in arg else np.nan)\n",
    "df['sex']=df['response'].apply(lambda arg: arg['sex'] if 'sex' in arg else np.nan)\n",
    "df['is_closed']=df['response'].apply(lambda arg: arg['is_closed'] if 'is_closed' in arg else np.nan)\n",
    "\n",
    "        \n",
    "df[(df['first_name']!='DELETED') & (df['sex']!=0)]['sex'].value_counts(normalize=True)"
   ]
  },
  {
   "cell_type": "code",
   "execution_count": 50,
   "metadata": {},
   "outputs": [
    {
     "name": "stdout",
     "output_type": "stream",
     "text": [
      "1000\n",
      "[6, 19, 47, 54, 79, 177, 198, 212, 219, 239, 243, 345, 407, 450, 467, 485, 510, 550, 619, 640]\n"
     ]
    }
   ],
   "source": [
    "import requests # Импортируем модуль requests\n",
    "token = '2e69a3572e69a3572e69a357ff2d7b734e22e692e69a3574d916ce31a0afab9b779f6aa' # Указываем свой сервисный токен\n",
    "url = 'https://api.vk.com/method/groups.getMembers' # Указываем адрес обращения\n",
    "params = {'group_id': 'vk', 'v': 5.95, 'access_token': token} # Формируем строку параметров\n",
    "response = requests.get(url, params = params) # Посылаем запрос\n",
    "data = response.json() # Ответ сохраняем в переменной data в формате словаря\n",
    "#print(data) # Выводим содержимое переменной data на экран (отображён фрагмент)\n",
    "print(len(data['response']['items'])) # Выводим на экран количество элементов словаря\n",
    "users_for_checking = data['response']['items'][:20] # Загружаем в переменную информацию об id первых 20 пользователей в виде списка\n",
    "print(users_for_checking) # Выводим перечень id первых 20 пользователей"
   ]
  },
  {
   "cell_type": "code",
   "execution_count": null,
   "metadata": {},
   "outputs": [],
   "source": [
    "import requests # Импортируем модуль requests\n",
    "token = '2e69a3572e69a3572e69a357ff2d7b734e22e692e69a3574d916ce31a0afab9b779f6aa' # Указываем свой сервисный токен\n",
    "url = 'https://api.vk.com/method/groups.getMembers' # Указываем адрес обращения\n",
    "count = 1000 \n",
    "offset = 0 \n",
    "user_ids = [] \n",
    "max_count = data['response']['count']\n",
    "while offset < max_count: \n",
    "    # Будем выгружать по count=5 пользователей, \n",
    "    # начиная с того места, где закончили на предыдущей итерации (offset) \n",
    "    print('Выгружаю {} пользователей с offset = {}'.format(count, offset))   \n",
    "    params = {'group_id': 'vk', 'v': 5.95, 'count': count, 'offset': offset, 'access_token': token} \n",
    "    response = requests.get(url, params = params) \n",
    "    data = response.json() \n",
    "    user_ids += data['response']['items'] \n",
    "    # Увеличиваем смещение на количество строк, которое мы уже выгрузили \n",
    "    offset += count \n",
    "print(user_ids) "
   ]
  },
  {
   "cell_type": "code",
   "execution_count": 54,
   "metadata": {},
   "outputs": [
    {
     "name": "stdout",
     "output_type": "stream",
     "text": [
      "Ожидаю 0.5 секунды...\n",
      "Ожидаю 0.5 секунды...\n",
      "Ожидаю 0.5 секунды...\n",
      "Ожидаю 0.5 секунды...\n",
      "Ожидаю 0.5 секунды...\n",
      "Цикл завершен, offset = 5000\n"
     ]
    }
   ],
   "source": [
    "import requests # Импортируем модуль requests\n",
    "import time # Импортируем модуль time\n",
    "token = '2e69a3572e69a3572e69a357ff2d7b734e22e692e69a3574d916ce31a0afab9b779f6aa' # Указываем свой сервисный токен\n",
    "url = 'https://api.vk.com/method/groups.getMembers' # Указываем адрес страницы, к которой делаем запрос\n",
    "count = 1000 \n",
    "offset = 0  \n",
    "user_ids = []  \n",
    "while offset < 5000: \n",
    "    params = {'group_id': 'vk', 'v': 5.95, 'count': count, 'offset': offset, 'access_token': token} \n",
    "    response = requests.get(url, params = params) \n",
    "    data = response.json() \n",
    "    user_ids += data['response']['items'] \n",
    "    offset += count \n",
    "    print('Ожидаю 0.5 секунды...') \n",
    "    time.sleep(0.5) \n",
    "print('Цикл завершен, offset =',offset) "
   ]
  },
  {
   "cell_type": "code",
   "execution_count": 58,
   "metadata": {},
   "outputs": [
    {
     "name": "stdout",
     "output_type": "stream",
     "text": [
      "{'CEO ВКонтакте Марина Краснова ': [179, 1559, 674, 1672419951],\n",
      " 'В VK Звонках уже многие успели': [530, 968, 338, 1675855634],\n",
      " 'В VK Музыке появился раздел с ': [482, 1136, 308, 1674461351],\n",
      " 'В предновогодней суете вы могл': [871, 1675, 1540, 1673607471],\n",
      " 'День всех влюблённых приходит ': [445, 887, 278, 1676355699],\n",
      " 'Объявляем новый VK Fest! В это': [381, 2272, 1233, 1676634000],\n",
      " 'Приложение VK Мессенджер — теп': [339, 920, 624, 1676960293],\n",
      " 'Рассказываем, как вы отметили ': [151, 1336, 1426, 1673536380],\n",
      " 'С Днём студента! К этой дате м': [1605, 1580, 606, 1674640860],\n",
      " 'Что обсуждали, смотрели и слуш': [229, 1795, 660, 1672328610]}\n"
     ]
    }
   ],
   "source": [
    "import requests # Импортируем модуль requests\n",
    "from pprint import pprint # Импортируем функцию pprint()\n",
    "token = '2e69a3572e69a3572e69a357ff2d7b734e22e692e69a3574d916ce31a0afab9b779f6aa' # Указываем свой сервисный токен\n",
    "url = 'https://api.vk.com/method/wall.get' # Указываем адрес страницы, к которой делаем запрос\n",
    "params = {'domain': 'vk', 'filter': 'owner', 'count': 1000, 'offset': 0, 'access_token': token, 'v': 5.95} \n",
    "response = requests.get(url, params = params) \n",
    "#pprint(response.json())\n",
    "len(response.json()['response']['items'])\n",
    "response.json()['response']['items'][0] \n",
    "stats = {} \n",
    "count_post = 0 # Счётчик «непустых» сообщений\n",
    "for record in response.json()['response']['items'][:]:\n",
    "    title = record['text'][:30] \n",
    "    if title: \n",
    "        stats[title] = [record['comments']['count'], record['likes']['count'], record['reposts']['count'], record['date']] \n",
    "        count_post += 1 \n",
    "    if count_post < 10: \n",
    "        continue \n",
    "    else: \n",
    "        break \n",
    "pprint(stats)"
   ]
  },
  {
   "cell_type": "code",
   "execution_count": null,
   "metadata": {},
   "outputs": [],
   "source": [
    "import schedule # Импортируем модуль schedule\n",
    "import time \n",
    "def task(): \n",
    "    print('Hello! I am a task!') \n",
    "    return \n",
    "schedule.every(15).minutes.do(task)\n",
    "#schedule.every(1).hour.do(task) \n",
    "while True: \n",
    "    schedule.run_pending() \n",
    "    time.sleep(1) "
   ]
  }
 ],
 "metadata": {
  "kernelspec": {
   "display_name": "Python 3",
   "language": "python",
   "name": "python3"
  },
  "language_info": {
   "codemirror_mode": {
    "name": "ipython",
    "version": 3
   },
   "file_extension": ".py",
   "mimetype": "text/x-python",
   "name": "python",
   "nbconvert_exporter": "python",
   "pygments_lexer": "ipython3",
   "version": "3.10.9"
  },
  "orig_nbformat": 4,
  "vscode": {
   "interpreter": {
    "hash": "a9ab1230eb6c12b17398affaf841b5de97ccf4be090dc75644a8915ecb3fb276"
   }
  }
 },
 "nbformat": 4,
 "nbformat_minor": 2
}
