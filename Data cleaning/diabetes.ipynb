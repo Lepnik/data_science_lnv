{
 "cells": [
  {
   "cell_type": "code",
   "execution_count": 77,
   "metadata": {},
   "outputs": [
    {
     "name": "stdout",
     "output_type": "stream",
     "text": [
      "Число выбросов по методу Тьюки: 0\n",
      "Результирующее число записей: 761\n"
     ]
    },
    {
     "name": "stderr",
     "output_type": "stream",
     "text": [
      "C:\\Users\\lepni\\AppData\\Local\\Temp\\ipykernel_10572\\1129394692.py:38: SettingWithCopyWarning: \n",
      "A value is trying to be set on a copy of a slice from a DataFrame.\n",
      "Try using .loc[row_indexer,col_indexer] = value instead\n",
      "\n",
      "See the caveats in the documentation: https://pandas.pydata.org/pandas-docs/stable/user_guide/indexing.html#returning-a-view-versus-a-copy\n",
      "  temp_dupped['Glucose']=temp_dupped['Glucose'].apply(is_nan)\n",
      "C:\\Users\\lepni\\AppData\\Local\\Temp\\ipykernel_10572\\1129394692.py:39: SettingWithCopyWarning: \n",
      "A value is trying to be set on a copy of a slice from a DataFrame.\n",
      "Try using .loc[row_indexer,col_indexer] = value instead\n",
      "\n",
      "See the caveats in the documentation: https://pandas.pydata.org/pandas-docs/stable/user_guide/indexing.html#returning-a-view-versus-a-copy\n",
      "  temp_dupped['BloodPressure']=temp_dupped['BloodPressure'].apply(is_nan)\n",
      "C:\\Users\\lepni\\AppData\\Local\\Temp\\ipykernel_10572\\1129394692.py:40: SettingWithCopyWarning: \n",
      "A value is trying to be set on a copy of a slice from a DataFrame.\n",
      "Try using .loc[row_indexer,col_indexer] = value instead\n",
      "\n",
      "See the caveats in the documentation: https://pandas.pydata.org/pandas-docs/stable/user_guide/indexing.html#returning-a-view-versus-a-copy\n",
      "  temp_dupped['SkinThickness']=temp_dupped['SkinThickness'].apply(is_nan)\n",
      "C:\\Users\\lepni\\AppData\\Local\\Temp\\ipykernel_10572\\1129394692.py:41: SettingWithCopyWarning: \n",
      "A value is trying to be set on a copy of a slice from a DataFrame.\n",
      "Try using .loc[row_indexer,col_indexer] = value instead\n",
      "\n",
      "See the caveats in the documentation: https://pandas.pydata.org/pandas-docs/stable/user_guide/indexing.html#returning-a-view-versus-a-copy\n",
      "  temp_dupped['Insulin']=temp_dupped['Insulin'].apply(is_nan)\n",
      "C:\\Users\\lepni\\AppData\\Local\\Temp\\ipykernel_10572\\1129394692.py:42: SettingWithCopyWarning: \n",
      "A value is trying to be set on a copy of a slice from a DataFrame.\n",
      "Try using .loc[row_indexer,col_indexer] = value instead\n",
      "\n",
      "See the caveats in the documentation: https://pandas.pydata.org/pandas-docs/stable/user_guide/indexing.html#returning-a-view-versus-a-copy\n",
      "  temp_dupped['BMI']=temp_dupped['BMI'].apply(is_nan)\n"
     ]
    },
    {
     "data": {
      "text/plain": [
       "\"def outliers_z_score_mod(data, feature, log_scale=False, left = 3, right = 3):\\n    if log_scale:\\n        x = np.log(data[feature]+1)\\n    else:\\n        x = data[feature]\\n    mu = x.mean()\\n    sigma = x.std()\\n    lower_bound = mu - left * sigma\\n    upper_bound = mu + right * sigma\\n    outliers = data[(x < lower_bound) | (x > upper_bound)]\\n    cleaned = data[(x > lower_bound) & (x < upper_bound)]\\n    return outliers, cleaned\\noutliers, cleaned = outliers_z_score_mod(combine_data, 'SkinThickness', log_scale=True, left = 3.7, right = 3.7)\\nprint(f'Число выбросов по методу z-отклонения: {outliers.shape[0]}')\\nprint(f'Результирующее число записей: {cleaned.shape[0]}')\""
      ]
     },
     "execution_count": 77,
     "metadata": {},
     "output_type": "execute_result"
    }
   ],
   "source": [
    "import pandas as pd\n",
    "import numpy as np\n",
    "import plotly\n",
    "import plotly.express as px\n",
    "\n",
    "diabetes = pd.read_csv('data/diabetes_data.csv')\n",
    "diabetes = diabetes.drop('Gender', axis = 1)\n",
    "dupple_colm = list(diabetes.columns)\n",
    "mask=diabetes.duplicated()\n",
    "diabetes_dupl = diabetes[mask]\n",
    "\n",
    "temp_dupped = diabetes.drop_duplicates(subset = dupple_colm)\n",
    "#display(diabetes_dupped)\n",
    "\n",
    "low_information_cols = [] \n",
    "for col in temp_dupped.columns:\n",
    "    #наибольшая относительная частота в признаке\n",
    "    top_freq = temp_dupped[col].value_counts(normalize=True).max()\n",
    "    #доля уникальных значений от размера признака\n",
    "    nunique_ratio = temp_dupped[col].nunique() / temp_dupped[col].count()\n",
    "    # сравниваем наибольшую частоту с порогом\n",
    "    if top_freq > 0.95:\n",
    "        low_information_cols.append(col)\n",
    "        print(f'{col}: {round(top_freq*100, 2)}% одинаковых значений')\n",
    "    # сравниваем долю уникальных значений с порогом\n",
    "    if nunique_ratio > 0.95:\n",
    "        low_information_cols.append(col)\n",
    "        print(f'{col}: {round(nunique_ratio*100, 2)}% уникальных значений')\n",
    "information_diabetes = temp_dupped.drop(low_information_cols, axis=1)\n",
    "#print(f'Результирующее число признаков: {information_diabetes.shape[1]}')\n",
    "\n",
    "def is_nan(num):\n",
    "    if num == 0:\n",
    "        return np.nan\n",
    "    else:\n",
    "        return num\n",
    "\n",
    "temp_dupped['Glucose']=temp_dupped['Glucose'].apply(is_nan)\n",
    "temp_dupped['BloodPressure']=temp_dupped['BloodPressure'].apply(is_nan)\n",
    "temp_dupped['SkinThickness']=temp_dupped['SkinThickness'].apply(is_nan)\n",
    "temp_dupped['Insulin']=temp_dupped['Insulin'].apply(is_nan)\n",
    "temp_dupped['BMI']=temp_dupped['BMI'].apply(is_nan)\n",
    "        \n",
    "combine_data = temp_dupped.copy()\n",
    "\n",
    "#отбрасываем столбцы с числом пропусков более 30% (100-70)\n",
    "n = combine_data.shape[0] #число строк в таблице\n",
    "thresh = n*0.7\n",
    "combine_data = combine_data.dropna(thresh=thresh, axis=1)\n",
    "\n",
    "#отбрасываем строки с числом пропусков более 2 в строке\n",
    "m = combine_data.shape[1] #число признаков после удаления столбцов\n",
    "combine_data = combine_data.dropna(thresh=m-2, axis=0)\n",
    "\n",
    "values = {\n",
    "    'Glucose': combine_data['Glucose'].median(),\n",
    "    'BloodPressure': combine_data['BloodPressure'].median(),\n",
    "    'SkinThickness': combine_data['SkinThickness'].median(),\n",
    "    'BMI': combine_data['BMI'].median()\n",
    "}\n",
    "#заполняем оставшиеся записи константами в соответствии со словарем values\n",
    "combine_data = combine_data.fillna(values)\n",
    "\n",
    "def outliers_iqr_mod(data, feature, left=1.5, right=1.5, log_scale=False):\n",
    "    if log_scale:\n",
    "        x = np.log(data[feature])\n",
    "    else:\n",
    "        x = data[feature]\n",
    "    quartile_1, quartile_3 = x.quantile(0.25), x.quantile(0.75),\n",
    "    iqr = quartile_3 - quartile_1\n",
    "    lower_bound = quartile_1 - left*iqr\n",
    "    upper_bound = quartile_3 + right*iqr\n",
    "    outliers = data[(x<lower_bound) | (x > upper_bound)]\n",
    "    cleaned = data[(x>lower_bound) & (x < upper_bound)]\n",
    "    return outliers, cleaned\n",
    "\n",
    "outliers, cleaned = outliers_iqr_mod(combine_data, 'DiabetesPedigreeFunction', log_scale=True)\n",
    "print(f'Число выбросов по методу Тьюки: {outliers.shape[0]}')\n",
    "print(f'Результирующее число записей: {cleaned.shape[0]}')\n",
    "\n",
    "\"\"\"def outliers_z_score_mod(data, feature, log_scale=False, left = 3, right = 3):\n",
    "    if log_scale:\n",
    "        x = np.log(data[feature]+1)\n",
    "    else:\n",
    "        x = data[feature]\n",
    "    mu = x.mean()\n",
    "    sigma = x.std()\n",
    "    lower_bound = mu - left * sigma\n",
    "    upper_bound = mu + right * sigma\n",
    "    outliers = data[(x < lower_bound) | (x > upper_bound)]\n",
    "    cleaned = data[(x > lower_bound) & (x < upper_bound)]\n",
    "    return outliers, cleaned\n",
    "outliers, cleaned = outliers_z_score_mod(combine_data, 'SkinThickness', log_scale=True, left = 3.7, right = 3.7)\n",
    "print(f'Число выбросов по методу z-отклонения: {outliers.shape[0]}')\n",
    "print(f'Результирующее число записей: {cleaned.shape[0]}')\"\"\""
   ]
  }
 ],
 "metadata": {
  "kernelspec": {
   "display_name": "Python 3",
   "language": "python",
   "name": "python3"
  },
  "language_info": {
   "codemirror_mode": {
    "name": "ipython",
    "version": 3
   },
   "file_extension": ".py",
   "mimetype": "text/x-python",
   "name": "python",
   "nbconvert_exporter": "python",
   "pygments_lexer": "ipython3",
   "version": "3.10.9"
  },
  "orig_nbformat": 4,
  "vscode": {
   "interpreter": {
    "hash": "a9ab1230eb6c12b17398affaf841b5de97ccf4be090dc75644a8915ecb3fb276"
   }
  }
 },
 "nbformat": 4,
 "nbformat_minor": 2
}
