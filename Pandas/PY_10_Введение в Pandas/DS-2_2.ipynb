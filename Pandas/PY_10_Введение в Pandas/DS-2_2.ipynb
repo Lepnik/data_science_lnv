{
 "cells": [
  {
   "cell_type": "code",
   "execution_count": 139,
   "metadata": {},
   "outputs": [
    {
     "data": {
      "text/plain": [
       "0    Northern Metropolitan\n",
       "Name: Regionname, dtype: object"
      ]
     },
     "metadata": {},
     "output_type": "display_data"
    }
   ],
   "source": [
    "import pandas as pd\n",
    "#.nunique()\n",
    "#display(abs(melb_data.BuildingArea.median()-melb_data.BuildingArea.mean())/melb_data.BuildingArea.mean()*100)\n",
    "#display(melb_data.Bedroom.mode())\n",
    "#rest=melb_data[((melb_data['Rooms']>5) | (melb_data['YearBuilt']>2015)) & (melb_data['Price']<1000000)]\n",
    "#display(rest['Price'].mean())\n",
    "rest=melb_data[(melb_data['Type']=='h') & (melb_data['Price']<3000000)]\n",
    "display(rest['Regionname'].mode())"
   ]
  }
 ],
 "metadata": {
  "kernelspec": {
   "display_name": "Python 3",
   "language": "python",
   "name": "python3"
  },
  "language_info": {
   "codemirror_mode": {
    "name": "ipython",
    "version": 3
   },
   "file_extension": ".py",
   "mimetype": "text/x-python",
   "name": "python",
   "nbconvert_exporter": "python",
   "pygments_lexer": "ipython3",
   "version": "3.10.9"
  },
  "orig_nbformat": 4,
  "vscode": {
   "interpreter": {
    "hash": "a9ab1230eb6c12b17398affaf841b5de97ccf4be090dc75644a8915ecb3fb276"
   }
  }
 },
 "nbformat": 4,
 "nbformat_minor": 2
}
