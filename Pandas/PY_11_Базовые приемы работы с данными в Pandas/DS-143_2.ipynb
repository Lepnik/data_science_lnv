{
 "cells": [
  {
   "cell_type": "code",
   "execution_count": 94,
   "metadata": {},
   "outputs": [
    {
     "data": {
      "text/plain": [
       "0          0\n",
       "1          0\n",
       "2          0\n",
       "3          0\n",
       "4          0\n",
       "        ... \n",
       "13575    119\n",
       "13576    116\n",
       "13577    116\n",
       "13578    116\n",
       "13579    118\n",
       "Length: 13580, dtype: int8"
      ]
     },
     "metadata": {},
     "output_type": "display_data"
    }
   ],
   "source": [
    "import pandas as pd\n",
    "\n",
    "melb_data = pd.read_csv('data/melb_data_ps.csv', sep=',')\n",
    "melb_df = melb_data.copy()\n",
    "melb_df=melb_data.drop(['index', 'Coordinates'], axis=1)\n",
    "total_rooms = melb_df['Rooms'] + melb_df['Bedroom'] + melb_df['Bathroom']\n",
    "melb_df['MeanRoomsSquare'] = melb_df['BuildingArea'] / total_rooms\n",
    "diff_area = melb_df['BuildingArea'] - melb_df['Landsize']\n",
    "sum_area = melb_df['BuildingArea'] + melb_df['Landsize']\n",
    "melb_df['AreaRatio'] = diff_area/sum_area\n",
    "melb_df['Date'] = pd.to_datetime(melb_df['Date'], dayfirst=True)\n",
    "melb_df['MonthSale'] = melb_df['Date'].dt.month\n",
    "delta_days = melb_df['Date'] - pd.to_datetime('2016-01-01') \n",
    "melb_df['AgeBuilding'] = melb_df['Date'].dt.year - melb_df['YearBuilt']\n",
    "melb_df = melb_df.drop('YearBuilt', axis=1)\n",
    "melb_df['WeekdaySale']=melb_df['Date'].dt.dayofweek\n",
    "mask1=(melb_df['WeekdaySale']==6) | (melb_df['WeekdaySale']==5)\n",
    "#display(melb_df[mask1].shape[0])\n",
    "#display(melb_df['Address'].nunique())\n",
    "def get_street_type(address):\n",
    "    exclude_list = ['N', 'S', 'W', 'E']\n",
    "    address_list = address.split(' ')\n",
    "    street_type = address_list[-1]\n",
    "    if street_type in exclude_list:\n",
    "        street_type = address_list[-2]\n",
    "    return street_type\n",
    "street_types = melb_df['Address'].apply(get_street_type)\n",
    "popular_stypes =street_types.value_counts().nlargest(10).index\n",
    "melb_df['StreetType'] = street_types.apply(lambda x: x if x in popular_stypes else 'other')\n",
    "melb_df = melb_df.drop('Address', axis=1)\n",
    "\n",
    "def get_weekend(weekday):\n",
    "    if weekday in (5,6): return 1\n",
    "    else: return 0\n",
    "melb_df['Weekend'] = melb_df['WeekdaySale'].apply(get_weekend)\n",
    "mask2=melb_df['Weekend'] == 1\n",
    "popular_sell=melb_df['SellerG'].value_counts().nlargest(49).index\n",
    "melb_df['SellerG'] = melb_df['SellerG'].apply(lambda x: x if x in popular_sell else 'other')\n",
    "mask3=melb_df['SellerG']=='Nelson'; mask4=melb_df['SellerG']=='other'\n",
    "#display(melb_df[mask3]['Price'].min()/melb_df[mask4]['Price'].min())\n",
    "unique_list = []\n",
    "for col in melb_df.columns:\n",
    "    item = (col, melb_df[col].nunique(),melb_df[col].dtypes) \n",
    "    unique_list.append(item) \n",
    "unique_counts = pd.DataFrame(\n",
    "    unique_list,\n",
    "    columns=['Column_Name', 'Num_Unique', 'Type']\n",
    ").sort_values(by='Num_Unique',  ignore_index=True)\n",
    "#display(unique_counts)\n",
    "cols_to_exclude = ['Date', 'Rooms', 'Bedroom', 'Bathroom', 'Car'] # список столбцов, которые мы не берём во внимание\n",
    "max_unique_count = 150 # задаём максимальное число уникальных категорий\n",
    "for col in melb_df.columns: # цикл по именам столбцов\n",
    "    if melb_df[col].nunique() < max_unique_count and col not in cols_to_exclude: # проверяем условие\n",
    "        melb_df[col] = melb_df[col].astype('category') # преобразуем тип столбца\n",
    "#display(melb_df['Regionname'].cat.categories)\n",
    "#display(melb_df['Regionname'].cat.codes)\n",
    "melb_df['Type'] = melb_df['Type'].cat.rename_categories({\n",
    "    'u': 'unit',\n",
    "    't': 'townhouse',\n",
    "    'h': 'house'\n",
    "})\n",
    "#display(melb_df['Type'])\n",
    "new_houses_types = pd.Series(['unit', 'house', 'flat', 'flat', 'house'])\n",
    "new_houses_types = new_houses_types.astype(melb_df['Type'].dtype)\n",
    "#display(new_houses_types)\n",
    "melb_df['Type'] = melb_df['Type'].cat.add_categories('flat')\n",
    "new_houses_types = pd.Series(['unit', 'house', 'flat', 'flat', 'house'])\n",
    "new_houses_types = new_houses_types.astype(melb_df['Type'].dtype)\n",
    "popular_sub = melb_df['Suburb'].value_counts().nlargest(119)\n",
    "melb_df['Suburb'] = melb_df['Suburb'].apply(lambda x: x if x in popular_sub else 'other')\n",
    "melb_df['Suburb'] = melb_df['Suburb'].astype('category') # преобразуем тип столбца\n",
    "display(melb_df['Suburb'].cat.codes)\n",
    "#display(melb_df['Suburb'].cat.categories)"
   ]
  },
  {
   "cell_type": "code",
   "execution_count": 95,
   "metadata": {},
   "outputs": [
    {
     "data": {
      "text/plain": [
       "Timedelta('68 days 17:19:36.678445230')"
      ]
     },
     "metadata": {},
     "output_type": "display_data"
    }
   ],
   "source": [
    "import pandas as pd\n",
    "rough_data= pd.read_csv('https://raw.githubusercontent.com/justmarkham/pandas-videos/master/data/ufo.csv', sep=',')\n",
    "UFO_data=rough_data.copy()\n",
    "UFO_data['Time']=pd.to_datetime(UFO_data['Time'], dayfirst=True)\n",
    "UFO_data['Year']=UFO_data['Time'].dt.year\n",
    "UFO_data['Month']=UFO_data['Time'].dt.month\n",
    "UFO_data['Day']=UFO_data['Time'].dt.day\n",
    "mask=UFO_data['State']=='NV'\n",
    "\n",
    "display(UFO_data[mask]['Time'].diff().mean())"
   ]
  },
  {
   "cell_type": "code",
   "execution_count": 190,
   "metadata": {},
   "outputs": [
    {
     "data": {
      "text/plain": [
       "day        143012\n",
       "morning     95530\n",
       "evening     46373\n",
       "night       15085\n",
       "Name: time_of_day, dtype: int64"
      ]
     },
     "metadata": {},
     "output_type": "display_data"
    }
   ],
   "source": [
    "rough_data = pd.read_csv('data/citibike-tripdata.csv', sep=',')\n",
    "velo_df = rough_data.copy()\n",
    "velo_df=velo_df.drop(['start station id', 'end station id'], axis=1)\n",
    "#display(velo_df['start station name'].nunique(), velo_df['end station name'].nunique())\n",
    "velo_df['age']=2018-velo_df['birth year']\n",
    "velo_df=velo_df.drop(['birth year'], axis=1)\n",
    "#display(velo_df[velo_df['age']>60]['age'].count())\n",
    "velo_df['stoptime']=pd.to_datetime(velo_df['stoptime'])\n",
    "velo_df['starttime']=pd.to_datetime(velo_df['starttime'])\n",
    "velo_df['trip duration']=velo_df['stoptime']-velo_df['starttime']\n",
    "week_ends=pd.to_datetime(['2018-09-01','2018-09-02'])\n",
    "def day_check(date):\n",
    "    if date in week_ends:return 1\n",
    "    else: return 0\n",
    "velo_df['date']=pd.to_datetime(velo_df['starttime'].dt.date)\n",
    "velo_df['weekend']=velo_df['date'].apply(day_check)\n",
    "def day_div(quoter):\n",
    "    if 0<=quoter<=6 : return 'night'\n",
    "    elif 6<quoter<=12 : return 'morning'\n",
    "    elif 12<quoter<=18 : return 'day'\n",
    "    else: return 'evening'\n",
    "    \n",
    "velo_df['time_of_day']=velo_df['starttime'].dt.hour\n",
    "velo_df['time_of_day']=velo_df['time_of_day'].apply(day_div)\n",
    "display(velo_df['time_of_day'].value_counts())"
   ]
  }
 ],
 "metadata": {
  "kernelspec": {
   "display_name": "Python 3",
   "language": "python",
   "name": "python3"
  },
  "language_info": {
   "codemirror_mode": {
    "name": "ipython",
    "version": 3
   },
   "file_extension": ".py",
   "mimetype": "text/x-python",
   "name": "python",
   "nbconvert_exporter": "python",
   "pygments_lexer": "ipython3",
   "version": "3.10.9"
  },
  "orig_nbformat": 4,
  "vscode": {
   "interpreter": {
    "hash": "a9ab1230eb6c12b17398affaf841b5de97ccf4be090dc75644a8915ecb3fb276"
   }
  }
 },
 "nbformat": 4,
 "nbformat_minor": 2
}
